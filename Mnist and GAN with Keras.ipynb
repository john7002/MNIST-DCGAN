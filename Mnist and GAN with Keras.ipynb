{
 "cells": [
  {
   "cell_type": "markdown",
   "metadata": {},
   "source": [
    "Creating new data for Mnist datasets is the objective of this notebook. This is also a tutorial on GAN which is more and more use for generative models."
   ]
  },
  {
   "cell_type": "markdown",
   "metadata": {},
   "source": [
    "## 1. GAN description ##\n",
    "\n",
    "I will not too much describe it here as there are many really good websites for, all based on 2014 paper.\n",
    "\n",
    "Basically two neural networks are competiting: a generator creates a picture, and the discriminator is trying to detect it as fake or not. We are injecting in the discrimator real picture et generated picture. After a while, generator starts generating pictures close to original dataset."
   ]
  },
  {
   "cell_type": "code",
   "execution_count": 1,
   "metadata": {},
   "outputs": [],
   "source": [
    "from IPython.display import Image\n",
    "from IPython.core.display import HTML \n",
    "Image(url= \"./gan.png\",width=700, height=450)"
   ]
  },
  {
   "cell_type": "markdown",
   "metadata": {},
   "source": [
    "As this my first contact with GAN, Ì will not try to produce exotic pictures, but will only use the boring Mnist dataset and apply general principles of GAN"
   ]
  },
  {
   "cell_type": "markdown",
   "metadata": {},
   "source": [
    "## 2. Do it! ##"
   ]
  },
  {
   "cell_type": "markdown",
   "metadata": {},
   "source": [
    "Here are the general steps I understood : \n",
    "    1. Generate few pictures with generator. This is gonna be pure random at first\n",
    "    2. Get the generated pictures and add same numbers from training set. From the created batch of picture, train the generator to discern fake from real picture.\n",
    "    3. After few steps of training, Discrimator is fixed and we create new picture in the generator, and we submit them to the discriminator. We optimize then the generator to make its pictures as real as possible.\n",
    "    4. Repeat last 3 steps, until created pictures are good quality (i.e state of equilibrium where Generator produces picture that discriminator can not discern from real picture, while discriminator one time over two find a fake picture)."
   ]
  },
  {
   "cell_type": "markdown",
   "metadata": {},
   "source": [
    "Before building the model, few interesting words from Siraj Ravel github and DCGAN paper:\n",
    "\n",
    "* Batch normalization is a must in both networks.\n",
    "* Fully hidden connected layers are not a good idea.\n",
    "* Avoid pooling, simply stride your convolutions!\n",
    "* Use ReLU activation in generator for all layers except for the output, which uses tanh. \n",
    "* Use LeakyReLU activation in the discriminator for all layers.\n"
   ]
  },
  {
   "cell_type": "markdown",
   "metadata": {},
   "source": [
    "Minimax theorem that started the game theory states that for two players in a zero-sum game the minimax solution is the same as the Nash equilibrium.\n",
    "\n",
    "In simpler terms, when two players (D and G) are competing against each other (zero-sum game), and both play optimally assuming that their opponent is optimally (minimax strategy), the outcome is predetermined and none of the players can change it (Nash equilibrium).\n",
    "So, for our networks, it means that if we train them long enough, the Generator will learn how to sample from true “distribution,” meaning that it will start generating real life-like images, and the Discriminator will not be able to tell fake ones from genuine ones."
   ]
  },
  {
   "cell_type": "markdown",
   "metadata": {},
   "source": [
    "### 2.1 Generator ###"
   ]
  },
  {
   "cell_type": "markdown",
   "metadata": {},
   "source": [
    "Generator is basically a \"de\"-convnet network that is outputting a picture with same dimensioins from the dataset. So let's first import the mnist data.'"
   ]
  },
  {
   "cell_type": "code",
   "execution_count": 143,
   "metadata": {},
   "outputs": [],
   "source": [
    "#import tensorflow as tf\n",
    "import numpy as np\n",
    "from keras.datasets import mnist\n",
    "from keras.layers import Input, Dense, Reshape, Flatten, Dropout\n",
    "from keras.layers import BatchNormalization, Activation, ZeroPadding2D\n",
    "from keras.layers.advanced_activations import LeakyReLU\n",
    "from keras.layers.convolutional import UpSampling2D, Conv2D, Conv2DTranspose\n",
    "from keras.models import Sequential, Model\n",
    "from keras.backend import resize_images\n",
    "from keras.initializers import RandomNormal\n",
    "\n",
    "from keras.optimizers import Adam,RMSprop\n",
    "\n",
    "\n",
    "#mnist = tf.keras.datasets.mnist\n",
    "\n",
    "(x_train, y_train),(x_test, y_test) = mnist.load_data()\n",
    "\n",
    "# no need the labels, so we will gather all examples x.\n",
    "# Return a numpy array of shape (M, 28, 28)\n",
    "num_train, num_test = x_train.shape[0], x_test.shape[0]\n",
    "M = num_train + num_test\n",
    "x_all = np.zeros((M, 28, 28))\n",
    "x_all[:num_train, :, :] = x_train\n",
    "x_all[num_train:, :, :] = x_test"
   ]
  },
  {
   "cell_type": "markdown",
   "metadata": {},
   "source": [
    "So we have the data, what architecture for the Generator? For about a year after the first paper, training GANs seems difficult. In 2016 Radford et al. published the paper titled “Unsupervised Representation Learning with Deep Convolutional Generative Adversarial Networks” describing the model that subsequently became famous as DCGAN. In the paper, the DCGAN architecture looks like this:"
   ]
  },
  {
   "cell_type": "code",
   "execution_count": 3,
   "metadata": {},
   "outputs": [
    {
     "data": {
      "text/html": [
       "<img src=\"./gen_architecture.png\" width=\"700\" height=\"450\"/>"
      ],
      "text/plain": [
       "<IPython.core.display.Image object>"
      ]
     },
     "execution_count": 3,
     "metadata": {},
     "output_type": "execute_result"
    }
   ],
   "source": [
    "Image(url= \"./gen_architecture.png\",width=700, height=450)"
   ]
  },
  {
   "cell_type": "markdown",
   "metadata": {},
   "source": [
    "MNIST dataset is composed of monochrome 28x28 pixel images, so the desired shape for our input layer is [batch_size, 28, 28, 1]. This will flatten the picture in a 1D array.\n",
    "\n",
    "Ok, so my understanding: The generated vector z has real values from -1 to 1 and follows the Gaussian distribution then :\n",
    "1. Input layer. Regarding z (100,1) : We should reshape it, but seem sybilin to me. (batch_size, 100,1,1) ? \n",
    "2. First step: Project and reshape: convert our input layer to 4x4x1024.\n",
    "3. 1st \"deconvnet layer\":the inverse of convolution, called transposed convolution, 512 filters of shape 5,5, stride=2  then relu activation. To calculate output shape of deconv layer: With padding=Same: H = H1 x stride if padding=Valid\n",
    "H = (H1-1) x stride + HF (H = output size, H1 = input size, HF = height of filter)\n",
    "4. 2nd \"deconvnet layer: 256 filters 5x5\n",
    "5. 3rd deconvnet layer: 128 filters 5,5\n",
    "6. 4th deconvnet layer: 1 filters 5,5 # woulb 3 filters for RGB picture\n",
    "\n",
    "As the output we want a 28x28 pictures. Meaning we have to change stride compares to original papers. If we keep using stride of 2, we will end up with 64x64 pictures. What we could try at first is just using a stride of 1 on first layer, in order to output 32x32 picture which is close to 28x28."
   ]
  },
  {
   "cell_type": "code",
   "execution_count": 148,
   "metadata": {},
   "outputs": [],
   "source": [
    "def generator():\n",
    "    filter_size=[1024,512,256,128,1]\n",
    "    weight_init = RandomNormal(mean=0.0, stddev=0.02) # as suggested in paper\n",
    "    model = Sequential()\n",
    "    \n",
    "    model.add(Dense(input_dim=100, output_dim=filter_size[0]*4*4,kernel_initializer=weight_init)) # out =dedim x dim x\n",
    "    model.add(Activation('relu'))\n",
    "    model.add(BatchNormalization(momentum=0.9))\n",
    "    model.add(Reshape((4, 4, 1024)))  # here shape is (batch_size, 4, 4, 1024)\n",
    "\n",
    "    model.add(Conv2DTranspose(filters=filter_size[1], kernel_size=(5, 5), strides=(1,1), padding='same',kernel_initializer=weight_init))\n",
    "    # changed from 2,2 to make sure that picture dimension as output will be close to 28x28\n",
    "    model.add(Activation('relu'))\n",
    "    model.add(BatchNormalization(momentum=0.9)) #conv1 output is shape (batch_size, 4, 4, 512)\n",
    "\n",
    "\n",
    "    model.add(Conv2DTranspose(filters=filter_size[2], kernel_size=(5, 5), strides=(2,2), padding='same',kernel_initializer=weight_init))\n",
    "    model.add(Activation('relu'))\n",
    "    model.add(BatchNormalization(momentum=0.9)) #conv2 output is shape (batch_size, 8, 8, 256)\n",
    "\n",
    "    model.add(Conv2DTranspose(filters=filter_size[3], kernel_size=(5, 5), strides=(2,2), padding='same',kernel_initializer=weight_init))\n",
    "    # changed from 2,2 to make sure that picture dimension as output will be close to 28x28\n",
    "    model.add(Activation('relu'))\n",
    "    model.add(BatchNormalization(momentum=0.9)) #conv1 output is shape (batch_size, 16, 16, 128)\n",
    "\n",
    "    model.add(Conv2DTranspose(filters=filter_size[4], kernel_size=(5, 5), strides=(2,2), padding='same',kernel_initializer=weight_init))\n",
    "    # changed from 2,2 to make sure that picture dimension as output will be close to 28x28\n",
    "    model.add(Activation('tanh'))\n",
    "   # model.add(BatchNormalization(momentum=0.9)) #conv4 output is shape (batch_size, 32, 32, 1)\n",
    "\n",
    "    return model\n",
    "#RandomNormal(mean=0.0, stddev=0.05, seed=None)"
   ]
  },
  {
   "cell_type": "markdown",
   "metadata": {},
   "source": [
    "ok now let's try to display a picture given a random Z as input, for a batch_size of 3:"
   ]
  },
  {
   "cell_type": "code",
   "execution_count": 149,
   "metadata": {},
   "outputs": [
    {
     "name": "stderr",
     "output_type": "stream",
     "text": [
      "/usr/local/lib/python3.6/site-packages/ipykernel_launcher.py:6: UserWarning: Update your `Dense` call to the Keras 2 API: `Dense(input_dim=100, kernel_initializer=<keras.ini..., units=16384)`\n",
      "  \n"
     ]
    },
    {
     "name": "stdout",
     "output_type": "stream",
     "text": [
      "3/3 [==============================] - 4s 1s/step\n",
      "(3, 32, 32, 1)\n"
     ]
    },
    {
     "data": {
      "image/png": "[encoded data removed]",
      "text/plain": [
       "<matplotlib.figure.Figure at 0x2c0725e48>"
      ]
     },
     "metadata": {
      "needs_background": "light"
     },
     "output_type": "display_data"
    }
   ],
   "source": [
    "%matplotlib inline\n",
    "import matplotlib.pyplot as plt\n",
    "\n",
    "BATCH_SIZE = 3\n",
    "\n",
    "Z = np.random.uniform(-1, 1, (BATCH_SIZE, 100))\n",
    "gen = generator()\n",
    "gen.compile(loss='binary_crossentropy', optimizer=\"SGD\")\n",
    "generated_images = gen.predict(Z, verbose=1)\n",
    "\n",
    "print(generated_images.shape)\n",
    "plt.subplot(1, 3, 1)\n",
    "plt.imshow(generated_images[0].reshape(32, 32), cmap=plt.cm.Greys)\n",
    "plt.title('Random picture 1')\n",
    "\n",
    "plt.subplot(1, 3, 2)\n",
    "plt.imshow(generated_images[1].reshape(32, 32), cmap=plt.cm.Greys)\n",
    "plt.title('Random picture 2')\n",
    "    \n",
    "plt.subplot(1, 3, 3)\n",
    "plt.imshow(generated_images[2].reshape(32, 32), cmap=plt.cm.Greys)\n",
    "plt.title('Random picture 3')\n",
    "\n",
    "plt.show() "
   ]
  },
  {
   "cell_type": "markdown",
   "metadata": {},
   "source": [
    "Cool, now we have a random picture generator, taking a [batch_size,100] array as input. There is a nice article about upsampling a picture, nice to read: https://towardsdatascience.com/up-sampling-with-transposed-convolution-9ae4f2df52d0"
   ]
  },
  {
   "cell_type": "markdown",
   "metadata": {},
   "source": [
    "### 2.2 Discriminator ###"
   ]
  },
  {
   "cell_type": "markdown",
   "metadata": {},
   "source": [
    "Basically, this is the opposite of our generator. From a 32x32 picture, we will use the convnet to output a number between 0 and 1. "
   ]
  },
  {
   "cell_type": "code",
   "execution_count": 6,
   "metadata": {},
   "outputs": [
    {
     "data": {
      "text/html": [
       "<img src=\"./discriminator.png\" width=\"700\" height=\"450\"/>"
      ],
      "text/plain": [
       "<IPython.core.display.Image object>"
      ]
     },
     "execution_count": 6,
     "metadata": {},
     "output_type": "execute_result"
    }
   ],
   "source": [
    "Image(url= \"./discriminator.png\",width=700, height=450)"
   ]
  },
  {
   "cell_type": "markdown",
   "metadata": {},
   "source": [
    "As a reminder, the ouput size of a convolutional layer is $\\frac{n+2p-f}{s}+1 $ (n= input shape, p = padding, s = stride, f= filter size). \n",
    "Padding shape is:\n",
    "* \"Valid\" : n-f+1\n",
    "* \"Same\" : $p=\\frac{f-1}{2}$ ; n + 2p -f +1\n",
    "\n",
    "There is no common rules regarding, the filter size, just a 2^n size. If I keep same kernel size as the generator, I will end up with 2x2x1024 as output of the last conv layer. This is maybe not good, but let's try."
   ]
  },
  {
   "cell_type": "code",
   "execution_count": 151,
   "metadata": {},
   "outputs": [],
   "source": [
    "def discriminator():\n",
    "    filter_size=[128,256,512,1024]\n",
    "    weight_init = RandomNormal(mean=0.0, stddev=0.02) # as suggested in paper\n",
    "    \n",
    "    in_shape = (32, 32,1)\n",
    "    model = Sequential()\n",
    "    \n",
    "    model.add(Conv2D(filters=filter_size[0], kernel_size=(5, 5), strides=(2,2), padding='same',input_shape=in_shape,kernel_initializer=weight_init))\n",
    "    # padding will be : p = (f-1)/2 = 2 conv_1 output size is 32x 32 :32 + 2*2 - 5 +1 = 32\n",
    "    model.add(LeakyReLU(alpha=0.01))\n",
    "    #model.add(BatchNormalization(momentum=0.9))  #paper does not recommand to add batchnorm to input layer\n",
    "    # out shape = > 32+ 2*2 - 5/2 = 15.5 (take the round ) => 15 + 1 => ouput size 16x16x 128\n",
    "    \n",
    "    \n",
    "    model.add(Conv2D(filters=filter_size[1], kernel_size=(5, 5), strides=(2,2), padding='same',kernel_initializer=weight_init))\n",
    "    model.add(LeakyReLU(alpha=0.01))\n",
    "    model.add(BatchNormalization(momentum=0.9)) \n",
    "    # padding: p =2, out shape => 16 +4 -5 /2 = 7 => 7+1 => output size is 8x8x256\n",
    "    \n",
    "    model.add(Conv2D(filters=filter_size[2], kernel_size=(5, 5), strides=(2,2), padding='same',kernel_initializer=weight_init))\n",
    "    model.add(LeakyReLU(alpha=0.01))\n",
    "    model.add(BatchNormalization(momentum=0.9)) \n",
    "    # padding: p =2, out shape => 8 +4 -5 /2 = 3.5 => 3+1 => output size is 4x4x512\n",
    "    \n",
    "    model.add(Conv2D(filters=filter_size[3], kernel_size=(5, 5), strides=(2,2), padding='same',kernel_initializer=weight_init))\n",
    "    model.add(LeakyReLU(alpha=0.01))\n",
    "    model.add(BatchNormalization(momentum=0.9)) \n",
    "    # padding: p =2, out shape => 4 +4 -5 /2 = 1.5 => 1+1 => output size is 2x2x1024\n",
    "\n",
    "    #Before we connect the layer, however, we'll flatten our feature map (conv_4) to shape [batch_size, features],\n",
    "    #so that our tensor has only two dimensions:\n",
    "    model.add(Flatten()) # output is 4096\n",
    "    model.add(Dense(1))\n",
    "    model.add(Activation('sigmoid'))\n",
    "    \n",
    "    return model\n"
   ]
  },
  {
   "cell_type": "markdown",
   "metadata": {},
   "source": [
    "Let's try with a random 32x32 picture:"
   ]
  },
  {
   "cell_type": "code",
   "execution_count": 152,
   "metadata": {},
   "outputs": [
    {
     "name": "stdout",
     "output_type": "stream",
     "text": [
      "1/1 [==============================] - 3s 3s/step\n",
      "[[0.49755064]]\n"
     ]
    }
   ],
   "source": [
    "in1 = np.random.uniform(-1.0,1.0,[1, 32,32])\n",
    "random_picture = np.reshape(in1, (1, 32, 32, -1))\n",
    "\n",
    "discri = discriminator()\n",
    "discri.compile(loss='binary_crossentropy',optimizer='adam') \n",
    "return_label = discri.predict(random_picture, verbose=1)\n",
    "print(return_label)"
   ]
  },
  {
   "cell_type": "markdown",
   "metadata": {},
   "source": [
    "Okay seems, we correctly generate a binary prediction based on a 32x32 input."
   ]
  },
  {
   "cell_type": "markdown",
   "metadata": {},
   "source": [
    "### 2.3 Train the model ###"
   ]
  },
  {
   "cell_type": "markdown",
   "metadata": {},
   "source": [
    "Now, we enter the real GAN mechanism. As a reminder we currently have a generator and a disriminator. How to handle the complete GAN process? Here are the main steps:\n",
    "1. Generate a batch of fake images thanks to our Generator\n",
    "2. Train the discriminator mixing the batch of fake image + a same number of real image. We also add the label 0=fake, 1=real. Optimize the weight of Discriminator network.\n",
    "3. Generate picture with the generator, infere them in the discriminator network and improve the genrator network.\n"
   ]
  },
  {
   "cell_type": "markdown",
   "metadata": {},
   "source": [
    "#### 2.3.1 Generate batch of images ####"
   ]
  },
  {
   "cell_type": "markdown",
   "metadata": {},
   "source": [
    "As a example, here is how we generate 64 images:"
   ]
  },
  {
   "cell_type": "code",
   "execution_count": 9,
   "metadata": {},
   "outputs": [
    {
     "name": "stderr",
     "output_type": "stream",
     "text": [
      "/usr/local/lib/python3.6/site-packages/ipykernel_launcher.py:5: UserWarning: Update your `Dense` call to the Keras 2 API: `Dense(input_dim=100, units=16384)`\n",
      "  \"\"\"\n"
     ]
    },
    {
     "name": "stdout",
     "output_type": "stream",
     "text": [
      "64/64 [==============================] - 2s 27ms/step\n",
      "(64, 32, 32, 1)\n"
     ]
    }
   ],
   "source": [
    "batch_size = 64\n",
    "\n",
    "Z = np.random.uniform(-1, 1, (batch_size, 100))\n",
    "gen = generator()\n",
    "gen.compile(loss='binary_crossentropy', optimizer=\"adam\")\n",
    "generated_images = gen.predict(Z, verbose=1)\n",
    "\n",
    "print(generated_images.shape)"
   ]
  },
  {
   "cell_type": "markdown",
   "metadata": {},
   "source": [
    "#### 2.3.2 Train the discriminator ####"
   ]
  },
  {
   "cell_type": "markdown",
   "metadata": {},
   "source": [
    "First, we are going to train the discriminator:\n",
    "* when receiving real images, the discriminator should learn to compute high values (near 1), meaning that it is confident the input images are real\n",
    "* when receiving fake images, it should compute low values (near 0), meaning it is confident the input images are not real\n"
   ]
  },
  {
   "cell_type": "markdown",
   "metadata": {},
   "source": [
    "Prepare the Mnist dataset to feed the batch:"
   ]
  },
  {
   "cell_type": "code",
   "execution_count": 88,
   "metadata": {},
   "outputs": [],
   "source": [
    "def data_tensor(numpy_data):\n",
    "    '''\n",
    "    numpy_data: (M, 28, 28), values in range [0, 255]\n",
    "    returns: tensor of images shaped [M, 32, 32, 1], with values in range [-1, 1]\n",
    "    '''\n",
    "    # resize images to 32x32\n",
    "    npad = ((0, 0), (2, 2), (2, 2))\n",
    "    X= np.pad(numpy_data,npad, 'constant', constant_values=(0, 0))\n",
    "    \n",
    "    X = np.expand_dims(X, axis=3) # add a dimension for number of chanel, here gray images, so only one chanel of 255 possibilities\n",
    "\n",
    "    # The data is currently in a range [0, 255].\n",
    "    # Transform data to have a range [-1, 1].\n",
    "    # We do this to match the range of tanh, the activation on the generator's output layer.\n",
    "    X = X / 128.\n",
    "    X = X - 1.\n",
    "    return X"
   ]
  },
  {
   "cell_type": "markdown",
   "metadata": {},
   "source": [
    "#### 2.3.3 Combined model ####"
   ]
  },
  {
   "cell_type": "markdown",
   "metadata": {},
   "source": [
    "To train the generator, we need to know the discriminator loss, so let's build a combined model which is just the genrator and then the denominator"
   ]
  },
  {
   "cell_type": "code",
   "execution_count": 134,
   "metadata": {},
   "outputs": [],
   "source": [
    "def stacked_model(g, d):\n",
    "    model = Sequential()\n",
    "    model.add(g)\n",
    "    d.trainable = False\n",
    "    model.add(d)\n",
    "    return model"
   ]
  },
  {
   "cell_type": "markdown",
   "metadata": {},
   "source": [
    "Notice that we’re setting the discriminator’s training attribute to False before building the model. This means that for this model we will not be updating the weights of the discriminator during backpropagation. We will freeze these weights and only move the generator weights with the stack. The discriminator will be trained separately. Let's compile the models with the correct optimizer:"
   ]
  },
  {
   "cell_type": "code",
   "execution_count": 156,
   "metadata": {},
   "outputs": [
    {
     "name": "stderr",
     "output_type": "stream",
     "text": [
      "/usr/local/lib/python3.6/site-packages/ipykernel_launcher.py:6: UserWarning: Update your `Dense` call to the Keras 2 API: `Dense(input_dim=100, kernel_initializer=<keras.ini..., units=16384)`\n",
      "  \n"
     ]
    }
   ],
   "source": [
    "gen_optimizer = Adam(lr=0.0002, beta_1=0.5)\n",
    "disc_optimizer = Adam(lr=0.0002, beta_1=0.5)\n",
    "#disc_optimizer = RMSprop(lr=0.0008, clipvalue=1.0, decay=1e-10)\n",
    "gen = generator()\n",
    "discri = discriminator()\n",
    "\n",
    "discri.compile(loss='binary_crossentropy',optimizer=disc_optimizer,metrics=['accuracy'])\n",
    "gen.compile(loss='binary_crossentropy', optimizer=gen_optimizer)\n",
    "\n",
    "\n",
    "\n",
    "combined = stacked_model(gen,discri)\n",
    "combined.compile(loss='binary_crossentropy', optimizer=gen_optimizer)"
   ]
  },
  {
   "cell_type": "markdown",
   "metadata": {},
   "source": [
    "Notice that beta_1 = 0.5. This is a recommendation from the original DCGAN paper that we’ve carried forward and also had success with. A learning rate of 0.0002 is a good place to start, also recommended by DCGAN paper."
   ]
  },
  {
   "cell_type": "code",
   "execution_count": 101,
   "metadata": {},
   "outputs": [
    {
     "name": "stdout",
     "output_type": "stream",
     "text": [
      "_________________________________________________________________\n",
      "Layer (type)                 Output Shape              Param #   \n",
      "=================================================================\n",
      "sequential_45 (Sequential)   (None, 32, 32, 1)         18931205  \n",
      "_________________________________________________________________\n",
      "sequential_46 (Sequential)   (None, 1)                 17220097  \n",
      "=================================================================\n",
      "Total params: 36,151,302\n",
      "Trainable params: 18,896,643\n",
      "Non-trainable params: 17,254,659\n",
      "_________________________________________________________________\n"
     ]
    }
   ],
   "source": [
    "combined.summary()"
   ]
  },
  {
   "cell_type": "markdown",
   "metadata": {},
   "source": [
    "Again, the trainable params is not as big as the total params, due to the action to freeze the discriminator weights in combined model."
   ]
  },
  {
   "cell_type": "markdown",
   "metadata": {},
   "source": [
    "#### 2.3.4 Train the model ####"
   ]
  },
  {
   "cell_type": "markdown",
   "metadata": {},
   "source": [
    "Just to simply understand. Let's train it first on only one batch (X) of 64 real picture and 64 fake pictures and their corresponding labels."
   ]
  },
  {
   "cell_type": "code",
   "execution_count": 157,
   "metadata": {},
   "outputs": [
    {
     "name": "stdout",
     "output_type": "stream",
     "text": [
      "(64, 32, 32, 1)\n"
     ]
    }
   ],
   "source": [
    "batch_size = 64\n",
    "\n",
    "# creating 64 fake images and 64 real images\n",
    "noise = np.random.normal(0, 1, (64, 100))\n",
    "fake_images = gen.predict(noise)\n",
    "fake_labels = np.zeros((64, 1))\n",
    "\n",
    "image_batch = x_all[0:64]\n",
    "real_images=data_tensor(image_batch)\n",
    "\n",
    "real_labels = np.ones((64, 1))\n",
    "\n",
    "print(real_images.shape)"
   ]
  },
  {
   "cell_type": "code",
   "execution_count": 103,
   "metadata": {},
   "outputs": [
    {
     "name": "stderr",
     "output_type": "stream",
     "text": [
      "/usr/local/lib/python3.6/site-packages/keras/engine/training.py:973: UserWarning: Discrepancy between trainable weights and collected trainable weights, did you set `model.trainable` without calling `model.compile` after ?\n",
      "  'Discrepancy between trainable weights and collected trainable'\n"
     ]
    }
   ],
   "source": [
    "# Train the discriminator (real classified as ones and generated as zeros)\n",
    "d_loss_real = discri.train_on_batch(real_images, real_labels)\n",
    "d_loss_fake = discri.train_on_batch(fake_images, fake_labels)"
   ]
  },
  {
   "cell_type": "markdown",
   "metadata": {},
   "source": [
    "Discriminator model has updated weight, thanks to real images and fake images. The model is theoritically better at discerning fake and real images."
   ]
  },
  {
   "cell_type": "code",
   "execution_count": 111,
   "metadata": {},
   "outputs": [
    {
     "name": "stdout",
     "output_type": "stream",
     "text": [
      "[3.4712086 0.25     ]\n",
      "0.14933929\n"
     ]
    }
   ],
   "source": [
    "d_loss = 0.5 * np.add(d_loss_real, d_loss_fake)\n"
   ]
  },
  {
   "cell_type": "code",
   "execution_count": 112,
   "metadata": {},
   "outputs": [
    {
     "name": "stdout",
     "output_type": "stream",
     "text": [
      "[D loss: 3.471209, acc.: 25.00%] [G loss: 0.000945]\n"
     ]
    }
   ],
   "source": [
    "noise = np.random.normal(0, 1, (64, 100))\n",
    "\n",
    "# Train the generator with fake images, pretending this is real ones.\n",
    "g_loss = combined.train_on_batch(noise, np.ones((64, 1)))\n",
    "\n",
    "# Plot the progress\n",
    "print(\"[D loss: %f, acc.: %.2f%%] [G loss: %f]\" %( d_loss[0], 100 * d_loss[1], g_loss))\n"
   ]
  },
  {
   "cell_type": "markdown",
   "metadata": {},
   "source": [
    "#### 2.3.5 A word about theory ####"
   ]
  },
  {
   "cell_type": "markdown",
   "metadata": {},
   "source": [
    "The discriminator’s loss function is the cross entropy loss function. To understand this, let’s suppose we’re doing some binary classification with some trainable function D that we wish to optimize, where D\n",
    "D indicates the estimated probability of some data point $x_{i}$ being in the first class. To get the predicted probability of being in the second class, we just do 1-D($x_{i}$).\n",
    "\n",
    "The cross entropy between two distributions, which we’ll call p and q, is defined as:\n",
    "\n",
    "$H(p,q) = - \\sum(p_{i} log(q_{i})$\n",
    "\n",
    "To apply this loss function to the current binary classification task, we define the true distribution as $P[y_{i}=0]=1$ if $y_{i}=0$ and $P[y_{i}=1]=1$ if $y_{i}=1$\n",
    "\n",
    "Thus, for one data point x1 and its label, we get the following loss function:\n",
    "\n",
    "$H(x1,y1) = -y1.log(D(x1)-(1-y1)log(1-D(x1))$\n",
    "\n",
    "Let’s look at the above function. Notice that only one of the two terms is going to be zero, depending on the value of y1 , which makes sense since it’s defining a distribution which is either [0,1] or [1,0].\n",
    "\n",
    "\n",
    "Have a look here https://danieltakeshi.github.io/2017/03/05/understanding-generative-adversarial-networks/"
   ]
  },
  {
   "cell_type": "markdown",
   "metadata": {},
   "source": [
    "#### 2.3.6 Complete training ####"
   ]
  },
  {
   "cell_type": "markdown",
   "metadata": {},
   "source": [
    "Let's replace everything in complete training. We will use batch of 64 images. Also introduce a function to save the generated pictures:"
   ]
  },
  {
   "cell_type": "code",
   "execution_count": 154,
   "metadata": {},
   "outputs": [],
   "source": [
    "def save_imgs(generator, epoch, batch):\n",
    "    r, c = 5, 5\n",
    "    noise = np.random.normal(0, 1, (r * c, 100))\n",
    "    gen_imgs = generator.predict(noise)\n",
    "    gen_imgs = 0.5 * gen_imgs + 0.5\n",
    "\n",
    "    fig, axs = plt.subplots(r, c)\n",
    "    cnt = 0\n",
    "    for i in range(r):\n",
    "        for j in range(c):\n",
    "            axs[i, j].imshow(gen_imgs[cnt, :, :, 0], cmap='gray')\n",
    "            axs[i, j].axis('off')\n",
    "            cnt += 1\n",
    "    fig.savefig(\"images/mnist_%d_%d.png\" % (epoch, batch))\n",
    "    plt.close()"
   ]
  },
  {
   "cell_type": "code",
   "execution_count": 155,
   "metadata": {},
   "outputs": [
    {
     "name": "stderr",
     "output_type": "stream",
     "text": [
      "/usr/local/lib/python3.6/site-packages/keras/engine/training.py:973: UserWarning: Discrepancy between trainable weights and collected trainable weights, did you set `model.trainable` without calling `model.compile` after ?\n",
      "  'Discrepancy between trainable weights and collected trainable'\n"
     ]
    },
    {
     "name": "stdout",
     "output_type": "stream",
     "text": [
      "Epoch 0 Batch 0/546 [D loss: 3.701529, acc.: 35.16%] [G loss: 1.796620]\n",
      "Epoch 0 Batch 1/546 [D loss: 0.309367, acc.: 85.16%] [G loss: 5.773452]\n",
      "Epoch 0 Batch 2/546 [D loss: 0.027594, acc.: 100.00%] [G loss: 6.901357]\n",
      "Epoch 0 Batch 3/546 [D loss: 0.008008, acc.: 100.00%] [G loss: 6.646492]\n",
      "Epoch 0 Batch 4/546 [D loss: 0.063209, acc.: 97.66%] [G loss: 7.772598]\n",
      "Epoch 0 Batch 5/546 [D loss: 0.000700, acc.: 100.00%] [G loss: 10.238914]\n",
      "Epoch 0 Batch 6/546 [D loss: 0.003085, acc.: 100.00%] [G loss: 9.356950]\n",
      "Epoch 0 Batch 7/546 [D loss: 0.009628, acc.: 99.22%] [G loss: 8.286095]\n",
      "Epoch 0 Batch 8/546 [D loss: 0.002775, acc.: 100.00%] [G loss: 7.172940]\n",
      "Epoch 0 Batch 9/546 [D loss: 0.003542, acc.: 100.00%] [G loss: 6.990102]\n",
      "Epoch 0 Batch 10/546 [D loss: 0.010367, acc.: 100.00%] [G loss: 8.128311]\n",
      "Epoch 0 Batch 11/546 [D loss: 0.003518, acc.: 100.00%] [G loss: 8.311946]\n",
      "Epoch 0 Batch 12/546 [D loss: 0.002743, acc.: 100.00%] [G loss: 7.950078]\n",
      "Epoch 0 Batch 13/546 [D loss: 0.005713, acc.: 100.00%] [G loss: 8.352112]\n",
      "Epoch 0 Batch 14/546 [D loss: 0.008359, acc.: 100.00%] [G loss: 8.034541]\n",
      "Epoch 0 Batch 15/546 [D loss: 0.001148, acc.: 100.00%] [G loss: 7.861476]\n",
      "Epoch 0 Batch 16/546 [D loss: 0.002776, acc.: 100.00%] [G loss: 7.945015]\n",
      "Epoch 0 Batch 17/546 [D loss: 0.004072, acc.: 100.00%] [G loss: 8.714655]\n",
      "Epoch 0 Batch 18/546 [D loss: 0.001056, acc.: 100.00%] [G loss: 8.880754]\n",
      "Epoch 0 Batch 19/546 [D loss: 0.002206, acc.: 100.00%] [G loss: 8.017985]\n",
      "Epoch 0 Batch 20/546 [D loss: 0.001840, acc.: 100.00%] [G loss: 7.792753]\n",
      "Epoch 0 Batch 21/546 [D loss: 0.003406, acc.: 100.00%] [G loss: 9.243647]\n",
      "Epoch 0 Batch 22/546 [D loss: 0.000381, acc.: 100.00%] [G loss: 9.355813]\n",
      "Epoch 0 Batch 23/546 [D loss: 0.000484, acc.: 100.00%] [G loss: 8.990328]\n",
      "Epoch 0 Batch 24/546 [D loss: 0.001345, acc.: 100.00%] [G loss: 8.582198]\n",
      "Epoch 0 Batch 25/546 [D loss: 0.001795, acc.: 100.00%] [G loss: 8.814812]\n",
      "Epoch 0 Batch 26/546 [D loss: 0.001001, acc.: 100.00%] [G loss: 9.160999]\n",
      "Epoch 0 Batch 27/546 [D loss: 0.000566, acc.: 100.00%] [G loss: 8.677185]\n",
      "Epoch 0 Batch 28/546 [D loss: 0.001272, acc.: 100.00%] [G loss: 8.327439]\n",
      "Epoch 0 Batch 29/546 [D loss: 0.001339, acc.: 100.00%] [G loss: 8.144601]\n",
      "Epoch 0 Batch 30/546 [D loss: 0.001260, acc.: 100.00%] [G loss: 8.398496]\n",
      "Epoch 0 Batch 31/546 [D loss: 0.000758, acc.: 100.00%] [G loss: 7.890778]\n",
      "Epoch 0 Batch 32/546 [D loss: 0.002056, acc.: 100.00%] [G loss: 8.812812]\n",
      "Epoch 0 Batch 33/546 [D loss: 0.000499, acc.: 100.00%] [G loss: 9.293765]\n",
      "Epoch 0 Batch 34/546 [D loss: 0.000424, acc.: 100.00%] [G loss: 9.280395]\n",
      "Epoch 0 Batch 35/546 [D loss: 0.001064, acc.: 100.00%] [G loss: 8.512186]\n",
      "Epoch 0 Batch 36/546 [D loss: 0.001855, acc.: 100.00%] [G loss: 9.096832]\n",
      "Epoch 0 Batch 37/546 [D loss: 0.000692, acc.: 100.00%] [G loss: 9.220984]\n",
      "Epoch 0 Batch 38/546 [D loss: 0.001089, acc.: 100.00%] [G loss: 9.021055]\n",
      "Epoch 0 Batch 39/546 [D loss: 0.000640, acc.: 100.00%] [G loss: 8.981522]\n",
      "Epoch 0 Batch 40/546 [D loss: 0.001222, acc.: 100.00%] [G loss: 9.053504]\n",
      "Epoch 0 Batch 41/546 [D loss: 0.000713, acc.: 100.00%] [G loss: 9.165728]\n",
      "Epoch 0 Batch 42/546 [D loss: 0.001297, acc.: 100.00%] [G loss: 8.728927]\n",
      "Epoch 0 Batch 43/546 [D loss: 0.000814, acc.: 100.00%] [G loss: 8.739355]\n",
      "Epoch 0 Batch 44/546 [D loss: 0.002153, acc.: 100.00%] [G loss: 8.512358]\n",
      "Epoch 0 Batch 45/546 [D loss: 0.001734, acc.: 100.00%] [G loss: 10.011356]\n",
      "Epoch 0 Batch 46/546 [D loss: 0.000309, acc.: 100.00%] [G loss: 10.595941]\n",
      "Epoch 0 Batch 47/546 [D loss: 0.001014, acc.: 100.00%] [G loss: 9.789447]\n",
      "Epoch 0 Batch 48/546 [D loss: 0.000863, acc.: 100.00%] [G loss: 9.429514]\n",
      "Epoch 0 Batch 49/546 [D loss: 0.001458, acc.: 100.00%] [G loss: 9.961214]\n",
      "Epoch 0 Batch 50/546 [D loss: 0.000381, acc.: 100.00%] [G loss: 10.315454]\n",
      "Epoch 0 Batch 51/546 [D loss: 0.000874, acc.: 100.00%] [G loss: 9.956664]\n",
      "Epoch 0 Batch 52/546 [D loss: 0.004688, acc.: 100.00%] [G loss: 9.076950]\n",
      "Epoch 0 Batch 53/546 [D loss: 0.001718, acc.: 100.00%] [G loss: 10.165127]\n",
      "Epoch 0 Batch 54/546 [D loss: 0.000139, acc.: 100.00%] [G loss: 10.599961]\n",
      "Epoch 0 Batch 55/546 [D loss: 0.000147, acc.: 100.00%] [G loss: 10.021760]\n",
      "Epoch 0 Batch 56/546 [D loss: 0.001477, acc.: 100.00%] [G loss: 9.920759]\n",
      "Epoch 0 Batch 57/546 [D loss: 0.000924, acc.: 100.00%] [G loss: 10.501108]\n",
      "Epoch 0 Batch 58/546 [D loss: 0.000363, acc.: 100.00%] [G loss: 10.203779]\n",
      "Epoch 0 Batch 59/546 [D loss: 0.000582, acc.: 100.00%] [G loss: 10.225899]\n",
      "Epoch 0 Batch 60/546 [D loss: 0.000473, acc.: 100.00%] [G loss: 9.996183]\n",
      "Epoch 0 Batch 61/546 [D loss: 0.000377, acc.: 100.00%] [G loss: 9.403718]\n",
      "Epoch 0 Batch 62/546 [D loss: 0.001099, acc.: 100.00%] [G loss: 10.077898]\n",
      "Epoch 0 Batch 63/546 [D loss: 0.000550, acc.: 100.00%] [G loss: 9.702263]\n",
      "Epoch 0 Batch 64/546 [D loss: 0.000569, acc.: 100.00%] [G loss: 9.233267]\n",
      "Epoch 0 Batch 65/546 [D loss: 0.000451, acc.: 100.00%] [G loss: 9.090609]\n",
      "Epoch 0 Batch 66/546 [D loss: 0.001072, acc.: 100.00%] [G loss: 9.540394]\n",
      "Epoch 0 Batch 67/546 [D loss: 0.000614, acc.: 100.00%] [G loss: 9.737473]\n",
      "Epoch 0 Batch 68/546 [D loss: 0.000537, acc.: 100.00%] [G loss: 9.924791]\n",
      "Epoch 0 Batch 69/546 [D loss: 0.000479, acc.: 100.00%] [G loss: 9.459369]\n",
      "Epoch 0 Batch 70/546 [D loss: 0.002370, acc.: 100.00%] [G loss: 9.444404]\n",
      "Epoch 0 Batch 71/546 [D loss: 0.000612, acc.: 100.00%] [G loss: 9.969378]\n",
      "Epoch 0 Batch 72/546 [D loss: 0.000314, acc.: 100.00%] [G loss: 9.953496]\n",
      "Epoch 0 Batch 73/546 [D loss: 0.001214, acc.: 100.00%] [G loss: 8.998852]\n",
      "Epoch 0 Batch 74/546 [D loss: 0.003592, acc.: 100.00%] [G loss: 12.418259]\n",
      "Epoch 0 Batch 75/546 [D loss: 0.002091, acc.: 100.00%] [G loss: 13.043001]\n",
      "Epoch 0 Batch 76/546 [D loss: 0.000170, acc.: 100.00%] [G loss: 12.543843]\n",
      "Epoch 0 Batch 77/546 [D loss: 0.000138, acc.: 100.00%] [G loss: 11.317266]\n",
      "Epoch 0 Batch 78/546 [D loss: 0.000745, acc.: 100.00%] [G loss: 11.004106]\n",
      "Epoch 0 Batch 79/546 [D loss: 0.000093, acc.: 100.00%] [G loss: 11.471688]\n",
      "Epoch 0 Batch 80/546 [D loss: 0.000349, acc.: 100.00%] [G loss: 10.766404]\n",
      "Epoch 0 Batch 81/546 [D loss: 0.000241, acc.: 100.00%] [G loss: 9.939514]\n",
      "Epoch 0 Batch 82/546 [D loss: 0.001428, acc.: 100.00%] [G loss: 11.674746]\n",
      "Epoch 0 Batch 83/546 [D loss: 0.000297, acc.: 100.00%] [G loss: 11.649562]\n",
      "Epoch 0 Batch 84/546 [D loss: 0.000528, acc.: 100.00%] [G loss: 10.332234]\n",
      "Epoch 0 Batch 85/546 [D loss: 0.000444, acc.: 100.00%] [G loss: 9.248220]\n",
      "Epoch 0 Batch 86/546 [D loss: 0.000986, acc.: 100.00%] [G loss: 9.924685]\n",
      "Epoch 0 Batch 87/546 [D loss: 0.000120, acc.: 100.00%] [G loss: 10.385340]\n",
      "Epoch 0 Batch 88/546 [D loss: 0.000627, acc.: 100.00%] [G loss: 10.256158]\n",
      "Epoch 0 Batch 89/546 [D loss: 0.000475, acc.: 100.00%] [G loss: 9.843728]\n",
      "Epoch 0 Batch 90/546 [D loss: 0.000400, acc.: 100.00%] [G loss: 9.557654]\n",
      "Epoch 0 Batch 91/546 [D loss: 0.001513, acc.: 100.00%] [G loss: 10.583691]\n",
      "Epoch 0 Batch 92/546 [D loss: 0.001372, acc.: 100.00%] [G loss: 10.642496]\n",
      "Epoch 0 Batch 93/546 [D loss: 0.002374, acc.: 100.00%] [G loss: 12.071137]\n",
      "Epoch 0 Batch 94/546 [D loss: 0.001539, acc.: 100.00%] [G loss: 11.191402]\n",
      "Epoch 0 Batch 95/546 [D loss: 0.000139, acc.: 100.00%] [G loss: 10.394823]\n",
      "Epoch 0 Batch 96/546 [D loss: 0.000126, acc.: 100.00%] [G loss: 9.919340]\n",
      "Epoch 0 Batch 97/546 [D loss: 0.000353, acc.: 100.00%] [G loss: 9.315969]\n",
      "Epoch 0 Batch 98/546 [D loss: 0.000525, acc.: 100.00%] [G loss: 10.498346]\n",
      "Epoch 0 Batch 99/546 [D loss: 0.000379, acc.: 100.00%] [G loss: 10.692037]\n",
      "Epoch 0 Batch 100/546 [D loss: 0.000253, acc.: 100.00%] [G loss: 10.622123]\n",
      "Epoch 0 Batch 101/546 [D loss: 0.000415, acc.: 100.00%] [G loss: 10.609385]\n",
      "Epoch 0 Batch 102/546 [D loss: 0.000481, acc.: 100.00%] [G loss: 10.913082]\n",
      "Epoch 0 Batch 103/546 [D loss: 0.000374, acc.: 100.00%] [G loss: 10.416903]\n",
      "Epoch 0 Batch 104/546 [D loss: 0.000204, acc.: 100.00%] [G loss: 9.977234]\n",
      "Epoch 0 Batch 105/546 [D loss: 0.000561, acc.: 100.00%] [G loss: 10.045425]\n",
      "Epoch 0 Batch 106/546 [D loss: 0.000273, acc.: 100.00%] [G loss: 9.724414]\n",
      "Epoch 0 Batch 107/546 [D loss: 0.001857, acc.: 100.00%] [G loss: 9.814541]\n",
      "Epoch 0 Batch 108/546 [D loss: 0.000805, acc.: 100.00%] [G loss: 10.794372]\n",
      "Epoch 0 Batch 109/546 [D loss: 0.003365, acc.: 100.00%] [G loss: 13.426016]\n",
      "Epoch 0 Batch 110/546 [D loss: 0.001492, acc.: 100.00%] [G loss: 13.149441]\n"
     ]
    },
    {
     "name": "stdout",
     "output_type": "stream",
     "text": [
      "Epoch 0 Batch 111/546 [D loss: 0.000123, acc.: 100.00%] [G loss: 11.985822]\n",
      "Epoch 0 Batch 112/546 [D loss: 0.000374, acc.: 100.00%] [G loss: 10.638206]\n",
      "Epoch 0 Batch 113/546 [D loss: 0.001454, acc.: 100.00%] [G loss: 13.435026]\n",
      "Epoch 0 Batch 114/546 [D loss: 0.000609, acc.: 100.00%] [G loss: 13.183672]\n",
      "Epoch 0 Batch 115/546 [D loss: 0.000711, acc.: 100.00%] [G loss: 10.667036]\n",
      "Epoch 0 Batch 116/546 [D loss: 0.000468, acc.: 100.00%] [G loss: 9.414034]\n",
      "Epoch 0 Batch 117/546 [D loss: 0.011453, acc.: 99.22%] [G loss: 15.671572]\n",
      "Epoch 0 Batch 118/546 [D loss: 9.992313, acc.: 1.56%] [G loss: 0.065303]\n",
      "Epoch 0 Batch 119/546 [D loss: 7.420432, acc.: 51.56%] [G loss: 1.611216]\n",
      "Epoch 0 Batch 120/546 [D loss: 6.320627, acc.: 58.59%] [G loss: 2.970214]\n",
      "Epoch 0 Batch 121/546 [D loss: 6.535312, acc.: 57.03%] [G loss: 4.810687]\n",
      "Epoch 0 Batch 122/546 [D loss: 3.622310, acc.: 73.44%] [G loss: 15.510130]\n",
      "Epoch 0 Batch 123/546 [D loss: 6.727485, acc.: 50.00%] [G loss: 16.109451]\n",
      "Epoch 0 Batch 124/546 [D loss: 4.481023, acc.: 65.62%] [G loss: 15.376215]\n",
      "Epoch 0 Batch 125/546 [D loss: 2.208237, acc.: 68.75%] [G loss: 16.118095]\n",
      "Epoch 0 Batch 126/546 [D loss: 3.222889, acc.: 67.97%] [G loss: 15.492182]\n",
      "Epoch 0 Batch 127/546 [D loss: 0.001931, acc.: 100.00%] [G loss: 11.517714]\n",
      "Epoch 0 Batch 128/546 [D loss: 1.907102, acc.: 74.22%] [G loss: 15.897739]\n",
      "Epoch 0 Batch 129/546 [D loss: 0.335427, acc.: 90.62%] [G loss: 15.575638]\n",
      "Epoch 0 Batch 130/546 [D loss: 0.026674, acc.: 98.44%] [G loss: 14.960218]\n",
      "Epoch 0 Batch 131/546 [D loss: 0.272639, acc.: 96.88%] [G loss: 15.101886]\n",
      "Epoch 0 Batch 132/546 [D loss: 0.387861, acc.: 93.75%] [G loss: 15.324511]\n",
      "Epoch 0 Batch 133/546 [D loss: 0.001842, acc.: 100.00%] [G loss: 15.289890]\n",
      "Epoch 0 Batch 134/546 [D loss: 0.270124, acc.: 96.88%] [G loss: 14.162569]\n",
      "Epoch 0 Batch 135/546 [D loss: 0.246039, acc.: 96.88%] [G loss: 14.678389]\n",
      "Epoch 0 Batch 136/546 [D loss: 0.013491, acc.: 99.22%] [G loss: 14.723139]\n",
      "Epoch 0 Batch 137/546 [D loss: 0.027215, acc.: 98.44%] [G loss: 13.961494]\n",
      "Epoch 0 Batch 138/546 [D loss: 0.025538, acc.: 99.22%] [G loss: 13.029551]\n",
      "Epoch 0 Batch 139/546 [D loss: 0.222963, acc.: 96.88%] [G loss: 14.333834]\n",
      "Epoch 0 Batch 140/546 [D loss: 0.036539, acc.: 99.22%] [G loss: 13.520002]\n",
      "Epoch 0 Batch 141/546 [D loss: 0.010291, acc.: 100.00%] [G loss: 13.913671]\n",
      "Epoch 0 Batch 142/546 [D loss: 0.004311, acc.: 100.00%] [G loss: 12.929697]\n",
      "Epoch 0 Batch 143/546 [D loss: 0.128294, acc.: 96.09%] [G loss: 15.250785]\n",
      "Epoch 0 Batch 144/546 [D loss: 0.000959, acc.: 100.00%] [G loss: 15.942458]\n",
      "Epoch 0 Batch 145/546 [D loss: 0.024701, acc.: 99.22%] [G loss: 15.867393]\n",
      "Epoch 0 Batch 146/546 [D loss: 0.000060, acc.: 100.00%] [G loss: 15.614662]\n",
      "Epoch 0 Batch 147/546 [D loss: 0.000019, acc.: 100.00%] [G loss: 15.474714]\n",
      "Epoch 0 Batch 148/546 [D loss: 0.031384, acc.: 99.22%] [G loss: 15.647181]\n",
      "Epoch 0 Batch 149/546 [D loss: 0.000046, acc.: 100.00%] [G loss: 15.492749]\n",
      "Epoch 0 Batch 150/546 [D loss: 0.000059, acc.: 100.00%] [G loss: 15.754398]\n",
      "Epoch 0 Batch 151/546 [D loss: 0.000576, acc.: 100.00%] [G loss: 15.487557]\n",
      "Epoch 0 Batch 152/546 [D loss: 0.000459, acc.: 100.00%] [G loss: 14.728682]\n",
      "Epoch 0 Batch 153/546 [D loss: 0.000893, acc.: 100.00%] [G loss: 14.401762]\n",
      "Epoch 0 Batch 154/546 [D loss: 0.097562, acc.: 98.44%] [G loss: 15.171959]\n",
      "Epoch 0 Batch 155/546 [D loss: 0.000032, acc.: 100.00%] [G loss: 15.734911]\n",
      "Epoch 0 Batch 156/546 [D loss: 0.001750, acc.: 100.00%] [G loss: 15.582689]\n",
      "Epoch 0 Batch 157/546 [D loss: 0.000063, acc.: 100.00%] [G loss: 15.146572]\n",
      "Epoch 0 Batch 158/546 [D loss: 0.000114, acc.: 100.00%] [G loss: 14.680584]\n",
      "Epoch 0 Batch 159/546 [D loss: 0.211450, acc.: 93.75%] [G loss: 14.934046]\n",
      "Epoch 0 Batch 160/546 [D loss: 0.015337, acc.: 99.22%] [G loss: 15.068687]\n",
      "Epoch 0 Batch 161/546 [D loss: 0.053820, acc.: 99.22%] [G loss: 14.738453]\n",
      "Epoch 0 Batch 162/546 [D loss: 0.034411, acc.: 99.22%] [G loss: 15.485743]\n",
      "Epoch 0 Batch 163/546 [D loss: 0.000651, acc.: 100.00%] [G loss: 15.755921]\n",
      "Epoch 0 Batch 164/546 [D loss: 0.001147, acc.: 100.00%] [G loss: 15.696898]\n",
      "Epoch 0 Batch 165/546 [D loss: 0.000084, acc.: 100.00%] [G loss: 15.226709]\n",
      "Epoch 0 Batch 166/546 [D loss: 0.002936, acc.: 100.00%] [G loss: 15.084415]\n",
      "Epoch 0 Batch 167/546 [D loss: 0.000190, acc.: 100.00%] [G loss: 14.355925]\n",
      "Epoch 0 Batch 168/546 [D loss: 0.003043, acc.: 100.00%] [G loss: 13.855747]\n",
      "Epoch 0 Batch 169/546 [D loss: 0.000443, acc.: 100.00%] [G loss: 12.923834]\n",
      "Epoch 0 Batch 170/546 [D loss: 0.011859, acc.: 99.22%] [G loss: 13.339739]\n",
      "Epoch 0 Batch 171/546 [D loss: 0.000616, acc.: 100.00%] [G loss: 13.567037]\n",
      "Epoch 0 Batch 172/546 [D loss: 0.002042, acc.: 100.00%] [G loss: 11.967731]\n",
      "Epoch 0 Batch 173/546 [D loss: 0.003752, acc.: 100.00%] [G loss: 10.934828]\n",
      "Epoch 0 Batch 174/546 [D loss: 0.023732, acc.: 98.44%] [G loss: 14.006554]\n",
      "Epoch 0 Batch 175/546 [D loss: 0.003054, acc.: 100.00%] [G loss: 14.963295]\n",
      "Epoch 0 Batch 176/546 [D loss: 0.016971, acc.: 100.00%] [G loss: 13.060362]\n",
      "Epoch 0 Batch 177/546 [D loss: 0.001947, acc.: 100.00%] [G loss: 12.241219]\n",
      "Epoch 0 Batch 178/546 [D loss: 0.010646, acc.: 100.00%] [G loss: 13.893412]\n",
      "Epoch 0 Batch 179/546 [D loss: 0.001178, acc.: 100.00%] [G loss: 14.456868]\n",
      "Epoch 0 Batch 180/546 [D loss: 0.002101, acc.: 100.00%] [G loss: 13.522175]\n",
      "Epoch 0 Batch 181/546 [D loss: 0.002250, acc.: 100.00%] [G loss: 11.441246]\n",
      "Epoch 0 Batch 182/546 [D loss: 0.030550, acc.: 99.22%] [G loss: 15.390481]\n",
      "Epoch 0 Batch 183/546 [D loss: 0.027982, acc.: 100.00%] [G loss: 10.700146]\n",
      "Epoch 0 Batch 184/546 [D loss: 0.058680, acc.: 97.66%] [G loss: 16.095751]\n",
      "Epoch 0 Batch 185/546 [D loss: 0.015594, acc.: 99.22%] [G loss: 16.118095]\n",
      "Epoch 0 Batch 186/546 [D loss: 0.023827, acc.: 100.00%] [G loss: 16.030657]\n",
      "Epoch 0 Batch 187/546 [D loss: 0.000048, acc.: 100.00%] [G loss: 15.559109]\n",
      "Epoch 0 Batch 188/546 [D loss: 0.000004, acc.: 100.00%] [G loss: 15.045643]\n",
      "Epoch 0 Batch 189/546 [D loss: 0.000042, acc.: 100.00%] [G loss: 13.828876]\n",
      "Epoch 0 Batch 190/546 [D loss: 0.000201, acc.: 100.00%] [G loss: 11.527761]\n",
      "Epoch 0 Batch 191/546 [D loss: 0.012401, acc.: 99.22%] [G loss: 12.892576]\n",
      "Epoch 0 Batch 192/546 [D loss: 0.000065, acc.: 100.00%] [G loss: 13.321100]\n",
      "Epoch 0 Batch 193/546 [D loss: 0.000193, acc.: 100.00%] [G loss: 11.780257]\n",
      "Epoch 0 Batch 194/546 [D loss: 0.000903, acc.: 100.00%] [G loss: 9.110692]\n",
      "Epoch 0 Batch 195/546 [D loss: 0.073314, acc.: 96.88%] [G loss: 16.118095]\n",
      "Epoch 0 Batch 196/546 [D loss: 13.041522, acc.: 0.00%] [G loss: 0.000000]\n",
      "Epoch 0 Batch 197/546 [D loss: 7.971192, acc.: 50.00%] [G loss: 0.000000]\n",
      "Epoch 0 Batch 198/546 [D loss: 7.971192, acc.: 50.00%] [G loss: 0.000000]\n",
      "Epoch 0 Batch 199/546 [D loss: 7.971192, acc.: 50.00%] [G loss: 0.000000]\n",
      "Epoch 0 Batch 200/546 [D loss: 7.971192, acc.: 50.00%] [G loss: 0.000000]\n",
      "Epoch 0 Batch 201/546 [D loss: 7.971192, acc.: 50.00%] [G loss: 0.000000]\n",
      "Epoch 0 Batch 202/546 [D loss: 7.971192, acc.: 50.00%] [G loss: 0.000000]\n",
      "Epoch 0 Batch 203/546 [D loss: 7.971192, acc.: 50.00%] [G loss: 0.000000]\n",
      "Epoch 0 Batch 204/546 [D loss: 7.971192, acc.: 50.00%] [G loss: 0.000000]\n",
      "Epoch 0 Batch 205/546 [D loss: 7.971192, acc.: 50.00%] [G loss: 0.000000]\n",
      "Epoch 0 Batch 206/546 [D loss: 7.971192, acc.: 50.00%] [G loss: 0.000000]\n",
      "Epoch 0 Batch 207/546 [D loss: 7.971192, acc.: 50.00%] [G loss: 0.000000]\n",
      "Epoch 0 Batch 208/546 [D loss: 7.971192, acc.: 50.00%] [G loss: 0.000000]\n",
      "Epoch 0 Batch 209/546 [D loss: 7.971192, acc.: 50.00%] [G loss: 0.000000]\n",
      "Epoch 0 Batch 210/546 [D loss: 7.971192, acc.: 50.00%] [G loss: 0.000000]\n",
      "Epoch 0 Batch 211/546 [D loss: 7.971192, acc.: 50.00%] [G loss: 0.000000]\n",
      "Epoch 0 Batch 212/546 [D loss: 7.971192, acc.: 50.00%] [G loss: 0.000000]\n",
      "Epoch 0 Batch 213/546 [D loss: 7.971192, acc.: 50.00%] [G loss: 0.000000]\n",
      "Epoch 0 Batch 214/546 [D loss: 7.971192, acc.: 50.00%] [G loss: 0.000000]\n",
      "Epoch 0 Batch 215/546 [D loss: 7.971192, acc.: 50.00%] [G loss: 0.000000]\n",
      "Epoch 0 Batch 216/546 [D loss: 7.971192, acc.: 50.00%] [G loss: 0.000000]\n",
      "Epoch 0 Batch 217/546 [D loss: 7.971192, acc.: 50.00%] [G loss: 0.000000]\n",
      "Epoch 0 Batch 218/546 [D loss: 7.971192, acc.: 50.00%] [G loss: 0.000000]\n",
      "Epoch 0 Batch 219/546 [D loss: 7.971192, acc.: 50.00%] [G loss: 0.000000]\n",
      "Epoch 0 Batch 220/546 [D loss: 7.971192, acc.: 50.00%] [G loss: 0.000000]\n"
     ]
    },
    {
     "name": "stdout",
     "output_type": "stream",
     "text": [
      "Epoch 0 Batch 221/546 [D loss: 7.971192, acc.: 50.00%] [G loss: 0.000000]\n",
      "Epoch 0 Batch 222/546 [D loss: 7.971192, acc.: 50.00%] [G loss: 0.000000]\n",
      "Epoch 0 Batch 223/546 [D loss: 7.971192, acc.: 50.00%] [G loss: 0.000000]\n",
      "Epoch 0 Batch 224/546 [D loss: 7.971192, acc.: 50.00%] [G loss: 0.000000]\n",
      "Epoch 0 Batch 225/546 [D loss: 7.971192, acc.: 50.00%] [G loss: 0.000000]\n",
      "Epoch 0 Batch 226/546 [D loss: 7.971192, acc.: 50.00%] [G loss: 0.000000]\n",
      "Epoch 0 Batch 227/546 [D loss: 7.971192, acc.: 50.00%] [G loss: 0.000000]\n",
      "Epoch 0 Batch 228/546 [D loss: 7.971192, acc.: 50.00%] [G loss: 0.000000]\n",
      "Epoch 0 Batch 229/546 [D loss: 7.971192, acc.: 50.00%] [G loss: 0.000000]\n",
      "Epoch 0 Batch 230/546 [D loss: 7.971192, acc.: 50.00%] [G loss: 0.000000]\n",
      "Epoch 0 Batch 231/546 [D loss: 7.971192, acc.: 50.00%] [G loss: 0.000000]\n",
      "Epoch 0 Batch 232/546 [D loss: 7.971192, acc.: 50.00%] [G loss: 0.000000]\n",
      "Epoch 0 Batch 233/546 [D loss: 7.971192, acc.: 50.00%] [G loss: 0.000000]\n",
      "Epoch 0 Batch 234/546 [D loss: 7.971192, acc.: 50.00%] [G loss: 0.000000]\n",
      "Epoch 0 Batch 235/546 [D loss: 7.971192, acc.: 50.00%] [G loss: 0.000000]\n",
      "Epoch 0 Batch 236/546 [D loss: 7.971192, acc.: 50.00%] [G loss: 0.000000]\n",
      "Epoch 0 Batch 237/546 [D loss: 7.971192, acc.: 50.00%] [G loss: 0.000000]\n",
      "Epoch 0 Batch 238/546 [D loss: 7.971192, acc.: 50.00%] [G loss: 0.000000]\n",
      "Epoch 0 Batch 239/546 [D loss: 7.971192, acc.: 50.00%] [G loss: 0.000000]\n",
      "Epoch 0 Batch 240/546 [D loss: 7.971192, acc.: 50.00%] [G loss: 0.000000]\n",
      "Epoch 0 Batch 241/546 [D loss: 7.971192, acc.: 50.00%] [G loss: 0.000000]\n",
      "Epoch 0 Batch 242/546 [D loss: 7.971192, acc.: 50.00%] [G loss: 0.000000]\n",
      "Epoch 0 Batch 243/546 [D loss: 7.971192, acc.: 50.00%] [G loss: 0.000000]\n",
      "Epoch 0 Batch 244/546 [D loss: 7.971192, acc.: 50.00%] [G loss: 0.000000]\n",
      "Epoch 0 Batch 245/546 [D loss: 7.971192, acc.: 50.00%] [G loss: 0.000000]\n",
      "Epoch 0 Batch 246/546 [D loss: 7.971192, acc.: 50.00%] [G loss: 0.000000]\n",
      "Epoch 0 Batch 247/546 [D loss: 7.971192, acc.: 50.00%] [G loss: 0.000000]\n",
      "Epoch 0 Batch 248/546 [D loss: 7.971192, acc.: 50.00%] [G loss: 0.000000]\n",
      "Epoch 0 Batch 249/546 [D loss: 7.971192, acc.: 50.00%] [G loss: 0.000000]\n",
      "Epoch 0 Batch 250/546 [D loss: 7.971192, acc.: 50.00%] [G loss: 0.000000]\n"
     ]
    },
    {
     "ename": "KeyboardInterrupt",
     "evalue": "",
     "output_type": "error",
     "traceback": [
      "\u001b[0;31m---------------------------------------------------------------------------\u001b[0m",
      "\u001b[0;31mKeyboardInterrupt\u001b[0m                         Traceback (most recent call last)",
      "\u001b[0;32m<ipython-input-155-3ad13fd6d7e1>\u001b[0m in \u001b[0;36m<module>\u001b[0;34m()\u001b[0m\n\u001b[1;32m     19\u001b[0m \u001b[0;34m\u001b[0m\u001b[0m\n\u001b[1;32m     20\u001b[0m      \u001b[0;31m# train the discriminator on both real and fake images\u001b[0m\u001b[0;34m\u001b[0m\u001b[0;34m\u001b[0m\u001b[0m\n\u001b[0;32m---> 21\u001b[0;31m         \u001b[0md_loss_real\u001b[0m \u001b[0;34m=\u001b[0m \u001b[0mdiscri\u001b[0m\u001b[0;34m.\u001b[0m\u001b[0mtrain_on_batch\u001b[0m\u001b[0;34m(\u001b[0m\u001b[0mreal_images\u001b[0m\u001b[0;34m,\u001b[0m \u001b[0mreal_labels\u001b[0m\u001b[0;34m)\u001b[0m\u001b[0;34m\u001b[0m\u001b[0m\n\u001b[0m\u001b[1;32m     22\u001b[0m         \u001b[0md_loss_fake\u001b[0m \u001b[0;34m=\u001b[0m \u001b[0mdiscri\u001b[0m\u001b[0;34m.\u001b[0m\u001b[0mtrain_on_batch\u001b[0m\u001b[0;34m(\u001b[0m\u001b[0mfake_images\u001b[0m\u001b[0;34m,\u001b[0m \u001b[0mfake_labels\u001b[0m\u001b[0;34m)\u001b[0m\u001b[0;34m\u001b[0m\u001b[0m\n\u001b[1;32m     23\u001b[0m \u001b[0;34m\u001b[0m\u001b[0m\n",
      "\u001b[0;32m/usr/local/lib/python3.6/site-packages/keras/models.py\u001b[0m in \u001b[0;36mtrain_on_batch\u001b[0;34m(self, x, y, class_weight, sample_weight)\u001b[0m\n\u001b[1;32m   1065\u001b[0m         return self.model.train_on_batch(x, y,\n\u001b[1;32m   1066\u001b[0m                                          \u001b[0msample_weight\u001b[0m\u001b[0;34m=\u001b[0m\u001b[0msample_weight\u001b[0m\u001b[0;34m,\u001b[0m\u001b[0;34m\u001b[0m\u001b[0m\n\u001b[0;32m-> 1067\u001b[0;31m                                          class_weight=class_weight)\n\u001b[0m\u001b[1;32m   1068\u001b[0m \u001b[0;34m\u001b[0m\u001b[0m\n\u001b[1;32m   1069\u001b[0m     def test_on_batch(self, x, y,\n",
      "\u001b[0;32m/usr/local/lib/python3.6/site-packages/keras/engine/training.py\u001b[0m in \u001b[0;36mtrain_on_batch\u001b[0;34m(self, x, y, sample_weight, class_weight)\u001b[0m\n\u001b[1;32m   1888\u001b[0m             \u001b[0mins\u001b[0m \u001b[0;34m=\u001b[0m \u001b[0mx\u001b[0m \u001b[0;34m+\u001b[0m \u001b[0my\u001b[0m \u001b[0;34m+\u001b[0m \u001b[0msample_weights\u001b[0m\u001b[0;34m\u001b[0m\u001b[0m\n\u001b[1;32m   1889\u001b[0m         \u001b[0mself\u001b[0m\u001b[0;34m.\u001b[0m\u001b[0m_make_train_function\u001b[0m\u001b[0;34m(\u001b[0m\u001b[0;34m)\u001b[0m\u001b[0;34m\u001b[0m\u001b[0m\n\u001b[0;32m-> 1890\u001b[0;31m         \u001b[0moutputs\u001b[0m \u001b[0;34m=\u001b[0m \u001b[0mself\u001b[0m\u001b[0;34m.\u001b[0m\u001b[0mtrain_function\u001b[0m\u001b[0;34m(\u001b[0m\u001b[0mins\u001b[0m\u001b[0;34m)\u001b[0m\u001b[0;34m\u001b[0m\u001b[0m\n\u001b[0m\u001b[1;32m   1891\u001b[0m         \u001b[0;32mif\u001b[0m \u001b[0mlen\u001b[0m\u001b[0;34m(\u001b[0m\u001b[0moutputs\u001b[0m\u001b[0;34m)\u001b[0m \u001b[0;34m==\u001b[0m \u001b[0;36m1\u001b[0m\u001b[0;34m:\u001b[0m\u001b[0;34m\u001b[0m\u001b[0m\n\u001b[1;32m   1892\u001b[0m             \u001b[0;32mreturn\u001b[0m \u001b[0moutputs\u001b[0m\u001b[0;34m[\u001b[0m\u001b[0;36m0\u001b[0m\u001b[0;34m]\u001b[0m\u001b[0;34m\u001b[0m\u001b[0m\n",
      "\u001b[0;32m/usr/local/lib/python3.6/site-packages/keras/backend/tensorflow_backend.py\u001b[0m in \u001b[0;36m__call__\u001b[0;34m(self, inputs)\u001b[0m\n\u001b[1;32m   2473\u001b[0m         \u001b[0msession\u001b[0m \u001b[0;34m=\u001b[0m \u001b[0mget_session\u001b[0m\u001b[0;34m(\u001b[0m\u001b[0;34m)\u001b[0m\u001b[0;34m\u001b[0m\u001b[0m\n\u001b[1;32m   2474\u001b[0m         updated = session.run(fetches=fetches, feed_dict=feed_dict,\n\u001b[0;32m-> 2475\u001b[0;31m                               **self.session_kwargs)\n\u001b[0m\u001b[1;32m   2476\u001b[0m         \u001b[0;32mreturn\u001b[0m \u001b[0mupdated\u001b[0m\u001b[0;34m[\u001b[0m\u001b[0;34m:\u001b[0m\u001b[0mlen\u001b[0m\u001b[0;34m(\u001b[0m\u001b[0mself\u001b[0m\u001b[0;34m.\u001b[0m\u001b[0moutputs\u001b[0m\u001b[0;34m)\u001b[0m\u001b[0;34m]\u001b[0m\u001b[0;34m\u001b[0m\u001b[0m\n\u001b[1;32m   2477\u001b[0m \u001b[0;34m\u001b[0m\u001b[0m\n",
      "\u001b[0;32m/usr/local/lib/python3.6/site-packages/tensorflow/python/client/session.py\u001b[0m in \u001b[0;36mrun\u001b[0;34m(self, fetches, feed_dict, options, run_metadata)\u001b[0m\n\u001b[1;32m    903\u001b[0m     \u001b[0;32mtry\u001b[0m\u001b[0;34m:\u001b[0m\u001b[0;34m\u001b[0m\u001b[0m\n\u001b[1;32m    904\u001b[0m       result = self._run(None, fetches, feed_dict, options_ptr,\n\u001b[0;32m--> 905\u001b[0;31m                          run_metadata_ptr)\n\u001b[0m\u001b[1;32m    906\u001b[0m       \u001b[0;32mif\u001b[0m \u001b[0mrun_metadata\u001b[0m\u001b[0;34m:\u001b[0m\u001b[0;34m\u001b[0m\u001b[0m\n\u001b[1;32m    907\u001b[0m         \u001b[0mproto_data\u001b[0m \u001b[0;34m=\u001b[0m \u001b[0mtf_session\u001b[0m\u001b[0;34m.\u001b[0m\u001b[0mTF_GetBuffer\u001b[0m\u001b[0;34m(\u001b[0m\u001b[0mrun_metadata_ptr\u001b[0m\u001b[0;34m)\u001b[0m\u001b[0;34m\u001b[0m\u001b[0m\n",
      "\u001b[0;32m/usr/local/lib/python3.6/site-packages/tensorflow/python/client/session.py\u001b[0m in \u001b[0;36m_run\u001b[0;34m(self, handle, fetches, feed_dict, options, run_metadata)\u001b[0m\n\u001b[1;32m   1135\u001b[0m     \u001b[0;32mif\u001b[0m \u001b[0mfinal_fetches\u001b[0m \u001b[0;32mor\u001b[0m \u001b[0mfinal_targets\u001b[0m \u001b[0;32mor\u001b[0m \u001b[0;34m(\u001b[0m\u001b[0mhandle\u001b[0m \u001b[0;32mand\u001b[0m \u001b[0mfeed_dict_tensor\u001b[0m\u001b[0;34m)\u001b[0m\u001b[0;34m:\u001b[0m\u001b[0;34m\u001b[0m\u001b[0m\n\u001b[1;32m   1136\u001b[0m       results = self._do_run(handle, final_targets, final_fetches,\n\u001b[0;32m-> 1137\u001b[0;31m                              feed_dict_tensor, options, run_metadata)\n\u001b[0m\u001b[1;32m   1138\u001b[0m     \u001b[0;32melse\u001b[0m\u001b[0;34m:\u001b[0m\u001b[0;34m\u001b[0m\u001b[0m\n\u001b[1;32m   1139\u001b[0m       \u001b[0mresults\u001b[0m \u001b[0;34m=\u001b[0m \u001b[0;34m[\u001b[0m\u001b[0;34m]\u001b[0m\u001b[0;34m\u001b[0m\u001b[0m\n",
      "\u001b[0;32m/usr/local/lib/python3.6/site-packages/tensorflow/python/client/session.py\u001b[0m in \u001b[0;36m_do_run\u001b[0;34m(self, handle, target_list, fetch_list, feed_dict, options, run_metadata)\u001b[0m\n\u001b[1;32m   1353\u001b[0m     \u001b[0;32mif\u001b[0m \u001b[0mhandle\u001b[0m \u001b[0;32mis\u001b[0m \u001b[0;32mNone\u001b[0m\u001b[0;34m:\u001b[0m\u001b[0;34m\u001b[0m\u001b[0m\n\u001b[1;32m   1354\u001b[0m       return self._do_call(_run_fn, self._session, feeds, fetches, targets,\n\u001b[0;32m-> 1355\u001b[0;31m                            options, run_metadata)\n\u001b[0m\u001b[1;32m   1356\u001b[0m     \u001b[0;32melse\u001b[0m\u001b[0;34m:\u001b[0m\u001b[0;34m\u001b[0m\u001b[0m\n\u001b[1;32m   1357\u001b[0m       \u001b[0;32mreturn\u001b[0m \u001b[0mself\u001b[0m\u001b[0;34m.\u001b[0m\u001b[0m_do_call\u001b[0m\u001b[0;34m(\u001b[0m\u001b[0m_prun_fn\u001b[0m\u001b[0;34m,\u001b[0m \u001b[0mself\u001b[0m\u001b[0;34m.\u001b[0m\u001b[0m_session\u001b[0m\u001b[0;34m,\u001b[0m \u001b[0mhandle\u001b[0m\u001b[0;34m,\u001b[0m \u001b[0mfeeds\u001b[0m\u001b[0;34m,\u001b[0m \u001b[0mfetches\u001b[0m\u001b[0;34m)\u001b[0m\u001b[0;34m\u001b[0m\u001b[0m\n",
      "\u001b[0;32m/usr/local/lib/python3.6/site-packages/tensorflow/python/client/session.py\u001b[0m in \u001b[0;36m_do_call\u001b[0;34m(self, fn, *args)\u001b[0m\n\u001b[1;32m   1359\u001b[0m   \u001b[0;32mdef\u001b[0m \u001b[0m_do_call\u001b[0m\u001b[0;34m(\u001b[0m\u001b[0mself\u001b[0m\u001b[0;34m,\u001b[0m \u001b[0mfn\u001b[0m\u001b[0;34m,\u001b[0m \u001b[0;34m*\u001b[0m\u001b[0margs\u001b[0m\u001b[0;34m)\u001b[0m\u001b[0;34m:\u001b[0m\u001b[0;34m\u001b[0m\u001b[0m\n\u001b[1;32m   1360\u001b[0m     \u001b[0;32mtry\u001b[0m\u001b[0;34m:\u001b[0m\u001b[0;34m\u001b[0m\u001b[0m\n\u001b[0;32m-> 1361\u001b[0;31m       \u001b[0;32mreturn\u001b[0m \u001b[0mfn\u001b[0m\u001b[0;34m(\u001b[0m\u001b[0;34m*\u001b[0m\u001b[0margs\u001b[0m\u001b[0;34m)\u001b[0m\u001b[0;34m\u001b[0m\u001b[0m\n\u001b[0m\u001b[1;32m   1362\u001b[0m     \u001b[0;32mexcept\u001b[0m \u001b[0merrors\u001b[0m\u001b[0;34m.\u001b[0m\u001b[0mOpError\u001b[0m \u001b[0;32mas\u001b[0m \u001b[0me\u001b[0m\u001b[0;34m:\u001b[0m\u001b[0;34m\u001b[0m\u001b[0m\n\u001b[1;32m   1363\u001b[0m       \u001b[0mmessage\u001b[0m \u001b[0;34m=\u001b[0m \u001b[0mcompat\u001b[0m\u001b[0;34m.\u001b[0m\u001b[0mas_text\u001b[0m\u001b[0;34m(\u001b[0m\u001b[0me\u001b[0m\u001b[0;34m.\u001b[0m\u001b[0mmessage\u001b[0m\u001b[0;34m)\u001b[0m\u001b[0;34m\u001b[0m\u001b[0m\n",
      "\u001b[0;32m/usr/local/lib/python3.6/site-packages/tensorflow/python/client/session.py\u001b[0m in \u001b[0;36m_run_fn\u001b[0;34m(session, feed_dict, fetch_list, target_list, options, run_metadata)\u001b[0m\n\u001b[1;32m   1338\u001b[0m         \u001b[0;32melse\u001b[0m\u001b[0;34m:\u001b[0m\u001b[0;34m\u001b[0m\u001b[0m\n\u001b[1;32m   1339\u001b[0m           return tf_session.TF_Run(session, options, feed_dict, fetch_list,\n\u001b[0;32m-> 1340\u001b[0;31m                                    target_list, status, run_metadata)\n\u001b[0m\u001b[1;32m   1341\u001b[0m \u001b[0;34m\u001b[0m\u001b[0m\n\u001b[1;32m   1342\u001b[0m     \u001b[0;32mdef\u001b[0m \u001b[0m_prun_fn\u001b[0m\u001b[0;34m(\u001b[0m\u001b[0msession\u001b[0m\u001b[0;34m,\u001b[0m \u001b[0mhandle\u001b[0m\u001b[0;34m,\u001b[0m \u001b[0mfeed_dict\u001b[0m\u001b[0;34m,\u001b[0m \u001b[0mfetch_list\u001b[0m\u001b[0;34m)\u001b[0m\u001b[0;34m:\u001b[0m\u001b[0;34m\u001b[0m\u001b[0m\n",
      "\u001b[0;31mKeyboardInterrupt\u001b[0m: "
     ]
    }
   ],
   "source": [
    "batch_size = 128\n",
    "epochs = 50\n",
    "\n",
    "num_examples = x_all.shape[0] # around 70k examples.\n",
    "num_batches = int(num_examples / float(batch_size)) # around 1093 batches\n",
    "half_batch = int(batch_size / 2) # 32 pictures\n",
    "\n",
    "for epoch in range(epochs + 1):\n",
    "    for batch in range(num_batches):\n",
    "    # creating the real and fake picture for this batch\n",
    "        noise = np.random.normal(0, 1, (half_batch, 100))\n",
    "        fake_images = gen.predict(noise)\n",
    "        fake_labels = np.zeros((half_batch, 1))\n",
    "\n",
    "        image_batch = x_all[batch*half_batch:batch*half_batch+half_batch]\n",
    "        real_images=data_tensor(image_batch)\n",
    "\n",
    "        real_labels = np.ones((half_batch, 1))\n",
    "        \n",
    "     # train the discriminator on both real and fake images\n",
    "        d_loss_real = discri.train_on_batch(real_images, real_labels)\n",
    "        d_loss_fake = discri.train_on_batch(fake_images, fake_labels)\n",
    "    \n",
    "        d_loss = 0.5 * np.add(d_loss_real, d_loss_fake)\n",
    "        \n",
    "        \n",
    "    # train the generator\n",
    "        noise = np.random.normal(0, 1, (half_batch, 100))\n",
    "        # Train the generator with fake images, pretending this is real ones.\n",
    "        g_loss = combined.train_on_batch(noise, np.ones((half_batch, 1)))\n",
    "            \n",
    "        \n",
    "        print(\"Epoch %d Batch %d/%d [D loss: %f, acc.: %.2f%%] [G loss: %f]\" % (epoch,batch, num_batches, d_loss[0], 100 * d_loss[1], g_loss))\n",
    "        if batch % 50 == 0:\n",
    "            save_imgs(gen, epoch, batch)\n",
    "        "
   ]
  },
  {
   "cell_type": "markdown",
   "metadata": {},
   "source": [
    "After several epochs, this is how the generated images are evolving:"
   ]
  },
  {
   "cell_type": "code",
   "execution_count": 160,
   "metadata": {},
   "outputs": [
    {
     "data": {
      "text/html": [
       "<img src=\"./animation.gif\" width=\"700\" height=\"450\"/>"
      ],
      "text/plain": [
       "<IPython.core.display.Image object>"
      ]
     },
     "execution_count": 160,
     "metadata": {},
     "output_type": "execute_result"
    }
   ],
   "source": [
    "Image(url= \"./animation.gif\",width=700, height=450)"
   ]
  },
  {
   "cell_type": "markdown",
   "metadata": {},
   "source": [
    "Here is the last pictures generated after 14 epochs:"
   ]
  },
  {
   "cell_type": "code",
   "execution_count": 162,
   "metadata": {},
   "outputs": [
    {
     "data": {
      "text/html": [
       "<img src=\"./mnist_14_0.png\" width=\"700\" height=\"450\"/>"
      ],
      "text/plain": [
       "<IPython.core.display.Image object>"
      ]
     },
     "execution_count": 162,
     "metadata": {},
     "output_type": "execute_result"
    }
   ],
   "source": [
    "Image(url= \"./mnist_14_0.png\",width=700, height=450)"
   ]
  },
  {
   "cell_type": "markdown",
   "metadata": {},
   "source": [
    "Not too bad. Surely can be improved with parameters tuning and mlaybe train longer."
   ]
  }
 ],
 "metadata": {
  "kernelspec": {
   "display_name": "Python 3",
   "language": "python",
   "name": "python3"
  },
  "language_info": {
   "codemirror_mode": {
    "name": "ipython",
    "version": 3
   },
   "file_extension": ".py",
   "mimetype": "text/x-python",
   "name": "python",
   "nbconvert_exporter": "python",
   "pygments_lexer": "ipython3",
   "version": "3.6.5"
  }
 },
 "nbformat": 4,
 "nbformat_minor": 2
}
