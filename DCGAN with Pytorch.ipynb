{
 "cells": [
  {
   "cell_type": "markdown",
   "metadata": {},
   "source": [
    "Creating new data for Mnist datasets and then Celebrity face is the objective of this notebook. This is also a tutorial on GAN which is more and more use for generative models."
   ]
  },
  {
   "cell_type": "markdown",
   "metadata": {},
   "source": [
    "## 1. GAN description ##\n",
    "\n",
    "I will not too much describe it here as there are many really good websites for, all based on 2014 paper.\n",
    "\n",
    "Basically two neural networks are competiting: a generator creates a picture, and the discriminator is trying to detect it as fake or not. We are injecting in the discrimator real picture et generated picture. After a while, generator starts generating pictures close to original dataset."
   ]
  },
  {
   "cell_type": "code",
   "execution_count": 1,
   "metadata": {},
   "outputs": [
    {
     "data": {
      "text/html": [
       "<img src=\"./gan.png\" width=\"700\" height=\"450\"/>"
      ],
      "text/plain": [
       "<IPython.core.display.Image object>"
      ]
     },
     "execution_count": 1,
     "metadata": {},
     "output_type": "execute_result"
    }
   ],
   "source": [
    "from IPython.display import Image\n",
    "from IPython.core.display import HTML \n",
    "Image(url= \"./gan.png\",width=700, height=450)"
   ]
  },
  {
   "cell_type": "markdown",
   "metadata": {},
   "source": [
    "As this my first contact with GAN, Ì will not try to produce exotic pictures, but will only use the boring Mnist dataset at first time  and apply general principles of GAN"
   ]
  },
  {
   "cell_type": "markdown",
   "metadata": {},
   "source": [
    "## 2. Do it! ##"
   ]
  },
  {
   "cell_type": "markdown",
   "metadata": {},
   "source": [
    "Here are the general steps I understood : \n",
    "    1. Generate few pictures with generator. This is gonna be pure random at first\n",
    "    2. Get the generated pictures and add same numbers from training set. From the created batch of picture, train the generator to discern fake from real picture.\n",
    "    3. After few steps of training, Discrimator is fixed and we create new picture in the generator, and we submit them to the discriminator. We optimize then the generator to make its pictures as real as possible.\n",
    "    4. Repeat last 3 steps, until created pictures are good quality (i.e state of equilibrium where Generator produces picture that discriminator can not discern from real picture, while discriminator one time over two find a fake picture)."
   ]
  },
  {
   "cell_type": "markdown",
   "metadata": {},
   "source": [
    "Before building the model, few interesting words from different interesting github repos and DCGAN paper:\n",
    "\n",
    "* Batch normalization is a must in both networks.\n",
    "* Fully hidden connected layers are not a good idea.\n",
    "* Avoid pooling, simply stride your convolutions!\n",
    "* Use ReLU activation in generator for all layers except for the output, which uses tanh. \n",
    "* Use LeakyReLU activation in the discriminator for all layers.\n",
    "\n"
   ]
  },
  {
   "cell_type": "markdown",
   "metadata": {},
   "source": [
    "Minimax theorem that started the game theory states that for two players in a zero-sum game the minimax solution is the same as the Nash equilibrium.\n",
    "\n",
    "In simpler terms, when two players (D and G) are competing against each other (zero-sum game), and both play optimally assuming that their opponent is optimally (minimax strategy), the outcome is predetermined and none of the players can change it (Nash equilibrium).\n",
    "So, for our networks, it means that if we train them long enough, the Generator will learn how to sample from true “distribution,” meaning that it will start generating real life-like images, and the Discriminator will not be able to tell fake ones from genuine ones."
   ]
  },
  {
   "cell_type": "markdown",
   "metadata": {},
   "source": [
    "### 2.1 Generator ###"
   ]
  },
  {
   "cell_type": "markdown",
   "metadata": {},
   "source": [
    "Generator is basically a \"de\"-convnet network that is outputting a picture with same dimensions from the dataset. So let's first import the mnist data."
   ]
  },
  {
   "cell_type": "code",
   "execution_count": 2,
   "metadata": {},
   "outputs": [],
   "source": [
    "import torch\n",
    "import torch.nn as nn\n",
    "import torch.nn.functional as F\n",
    "from torchsummary import summary\n",
    "import torchvision.transforms as transforms\n",
    "import torchvision\n",
    "import torch.optim as optim\n",
    "import numpy as np\n",
    "from torch.distributions import uniform\n",
    "from torch.autograd.variable import Variable\n",
    "\n",
    "\n",
    "batch_size = 32\n",
    "trans = transforms.Compose([transforms.Pad(2),transforms.ToTensor(),transforms.Normalize(mean=(0.5,), std=(0.5,))])\n",
    "\n",
    "\n",
    "\n",
    "\n",
    "trainset = torchvision.datasets.MNIST(root='./data', train=True,\n",
    "                                        download=True,transform=trans)\n",
    "\n",
    "trainloader = torch.utils.data.DataLoader(trainset, batch_size=batch_size,\n",
    "                                          shuffle=True, num_workers=2)\n"
   ]
  },
  {
   "cell_type": "code",
   "execution_count": 3,
   "metadata": {},
   "outputs": [
    {
     "name": "stdout",
     "output_type": "stream",
     "text": [
      "1875\n"
     ]
    }
   ],
   "source": [
    "print(len(trainloader))"
   ]
  },
  {
   "cell_type": "markdown",
   "metadata": {},
   "source": [
    "We imported 15000 batches of 4 pictures.(i.e total is 60k pictures)."
   ]
  },
  {
   "cell_type": "markdown",
   "metadata": {},
   "source": [
    "So we have the data, what architecture for the Generator? For about a year after the first paper, training GANs seems difficult. In 2016 Radford et al. published the paper titled “Unsupervised Representation Learning with Deep Convolutional Generative Adversarial Networks” describing the model that subsequently became famous as DCGAN. In the paper, the DCGAN architecture looks like this:"
   ]
  },
  {
   "cell_type": "code",
   "execution_count": 4,
   "metadata": {},
   "outputs": [
    {
     "data": {
      "text/html": [
       "<img src=\"./gen_architecture.png\" width=\"700\" height=\"450\"/>"
      ],
      "text/plain": [
       "<IPython.core.display.Image object>"
      ]
     },
     "execution_count": 4,
     "metadata": {},
     "output_type": "execute_result"
    }
   ],
   "source": [
    "Image(url= \"./gen_architecture.png\",width=700, height=450)"
   ]
  },
  {
   "cell_type": "markdown",
   "metadata": {},
   "source": [
    "MNIST dataset is composed of monochrome 28x28 pixel images, so the desired shape for our input layer is [batch_size, 28, 28, 1]. This will flatten the picture in a 1D array.\n",
    "\n",
    "Ok, so my understanding: The generated vector z has real values from -1 to 1 and follows the Gaussian distribution then :\n",
    "1. Input layer. Regarding z (100,1) : We should reshape it, but seem sybilin to me. (batch_size, 100,1,1) ? \n",
    "2. First step: Project and reshape: convert our input layer to 4x4x1024.\n",
    "3. 1st \"deconvnet layer\":the inverse of convolution, called transposed convolution, 512 filters of shape 5,5, stride=2  then relu activation. To calculate output shape of deconv layer: With padding=Same: H = H1 x stride if padding=Valid\n",
    "H = (H1-1) x stride + HF (H = output size, H1 = input size, HF = height of filter)\n",
    "4. 2nd \"deconvnet layer: 256 filters 5x5\n",
    "5. 3rd deconvnet layer: 128 filters 5,5\n",
    "6. 4th deconvnet layer: 1 filters 5,5 # woulb 3 filters for RGB picture\n",
    "\n",
    "As the output we want a 28x28 pictures. Meaning we have to change stride compares to original papers. If we keep using stride of 2, we will end up with 64x64 pictures. What we could try at first is just using a stride of 1 on first layer, in order to output 32x32 picture which is close to 28x28."
   ]
  },
  {
   "cell_type": "markdown",
   "metadata": {},
   "source": [
    "From the DCGAN paper, the authors specify that all model weights shall be randomly initialized from a Normal distribution with mean=0, stdev=0.2. The weights_init function takes an initialized model as input and reinitializes all convolutional, convolutional-transpose, and batch normalization layers to meet this criteria. This function is applied to the models immediately after initialization."
   ]
  },
  {
   "cell_type": "code",
   "execution_count": 5,
   "metadata": {},
   "outputs": [],
   "source": [
    "# custom weights initialization called on netG and netD\n",
    "def weights_init(m):\n",
    "    classname = m.__class__.__name__\n",
    "    if classname.find('Conv') != -1:\n",
    "        nn.init.normal_(m.weight.data, 0.0, 0.02)\n",
    "    elif classname.find('BatchNorm') != -1:\n",
    "        nn.init.normal_(m.weight.data, 1.0, 0.02)\n",
    "        nn.init.constant_(m.bias.data, 0)"
   ]
  },
  {
   "cell_type": "markdown",
   "metadata": {},
   "source": [
    " (Remember : Order in Pytorch shape is (N,Cin,H,W) and output (N,Cout,Hout,Wout) )"
   ]
  },
  {
   "cell_type": "code",
   "execution_count": 6,
   "metadata": {},
   "outputs": [
    {
     "name": "stdout",
     "output_type": "stream",
     "text": [
      "----------------------------------------------------------------\n",
      "        Layer (type)               Output Shape         Param #\n",
      "================================================================\n",
      "            Linear-1          [-1, 1, 1, 16384]       1,654,784\n",
      "       BatchNorm2d-2           [-1, 1024, 4, 4]           2,048\n",
      "              ReLU-3           [-1, 1024, 4, 4]               0\n",
      "   ConvTranspose2d-4            [-1, 512, 4, 4]      13,107,200\n",
      "       BatchNorm2d-5            [-1, 512, 4, 4]           1,024\n",
      "              ReLU-6            [-1, 512, 4, 4]               0\n",
      "   ConvTranspose2d-7            [-1, 256, 8, 8]       3,276,800\n",
      "       BatchNorm2d-8            [-1, 256, 8, 8]             512\n",
      "              ReLU-9            [-1, 256, 8, 8]               0\n",
      "  ConvTranspose2d-10          [-1, 128, 16, 16]         819,200\n",
      "      BatchNorm2d-11          [-1, 128, 16, 16]             256\n",
      "             ReLU-12          [-1, 128, 16, 16]               0\n",
      "  ConvTranspose2d-13            [-1, 1, 32, 32]           3,200\n",
      "             Tanh-14            [-1, 1, 32, 32]               0\n",
      "================================================================\n",
      "Total params: 18,865,024\n",
      "Trainable params: 18,865,024\n",
      "Non-trainable params: 0\n",
      "----------------------------------------------------------------\n",
      "Input size (MB): 0.00\n",
      "Forward/backward pass size (MB): 1.70\n",
      "Params size (MB): 71.96\n",
      "Estimated Total Size (MB): 73.67\n",
      "----------------------------------------------------------------\n"
     ]
    }
   ],
   "source": [
    "nz= 100 #nz - length of latent vector\n",
    "filter_size=[1024,512,256,128,1]\n",
    "\n",
    "class Generator(nn.Module):\n",
    "    def __init__(self, ngpu):\n",
    "        super(Generator, self).__init__()\n",
    "        self.ngpu = ngpu # number of GPUs available. If this is 0, code will run in CPU mode. If this number is greater than 0 it will run on that number of GPUs\n",
    "        self.Layer1 = nn.Sequential(\n",
    "            # input is Z, going into a fully connected layer\n",
    "            torch.nn.Linear(in_features=nz,out_features=filter_size[0]*4*4))\n",
    "        \n",
    "        self.main = nn.Sequential(\n",
    "            nn.BatchNorm2d(num_features=filter_size[0]),\n",
    "            nn.ReLU(True), #out -1,1,1,16384\n",
    "            \n",
    "            # 1st T_convolution layer\n",
    "            nn.ConvTranspose2d(in_channels=filter_size[0], out_channels=filter_size[1], kernel_size=5, stride=1, padding=2, bias = False),\n",
    "            # The output of convTranspose2d is o = (i -1)*s - 2*p + f + output_padding => (4-1)*1 - 2*2 + 5 +0 = 4 (p=f-1/2)\n",
    "            nn.BatchNorm2d(filter_size[1]),\n",
    "            nn.ReLU(True), #out is -1,512,4,4\n",
    "            \n",
    "            \n",
    "            #2nd T_convolution layer\n",
    "            nn.ConvTranspose2d(in_channels=filter_size[1], out_channels=filter_size[2], kernel_size=5, stride=2, padding=2, bias = False,output_padding=1),\n",
    "            nn.BatchNorm2d(filter_size[2]),\n",
    "            nn.ReLU(True), #out is -1,256,8,8\n",
    "            \n",
    "            #3rd T_convolution layer\n",
    "            nn.ConvTranspose2d(in_channels=filter_size[2], out_channels=filter_size[3], kernel_size=5, stride=2, padding=2, bias = False,output_padding=1),\n",
    "            nn.BatchNorm2d(filter_size[3]),\n",
    "            nn.ReLU(True), #out is -1,128,16,16\n",
    "            \n",
    "            #4th T_connvolution layer\n",
    "            nn.ConvTranspose2d(in_channels=filter_size[3], out_channels=filter_size[4], kernel_size=5, stride=2, padding=2, bias = False,output_padding=1),\n",
    "            # out is -1,1,32,32\n",
    "            \n",
    "            nn.Tanh()\n",
    "        )\n",
    "\n",
    "    def forward(self, input):\n",
    "        out_L1 = self.Layer1(input) #out_L1 is -1,1,1,16384\n",
    "        #resize to 4,4,1024\n",
    "        out_L1 = out_L1.view(out_L1.shape[0],1024,4,4)\n",
    "\n",
    "        return self.main(out_L1)\n",
    "    \n",
    "net = Generator(ngpu=0)\n",
    "\n",
    "summary(net, (1,1,100))"
   ]
  },
  {
   "cell_type": "code",
   "execution_count": 7,
   "metadata": {},
   "outputs": [
    {
     "name": "stdout",
     "output_type": "stream",
     "text": [
      "(3, 1, 32, 32)\n"
     ]
    },
    {
     "data": {
      "image/png": "[encoded data removed]",
      "text/plain": [
       "<matplotlib.figure.Figure at 0x116a3b7f0>"
      ]
     },
     "metadata": {
      "needs_background": "light"
     },
     "output_type": "display_data"
    }
   ],
   "source": [
    "%matplotlib inline\n",
    "import matplotlib.pyplot as plt\n",
    "\n",
    "BATCH_SIZE = 3\n",
    "\n",
    "Z = np.random.uniform(-1, 1, (BATCH_SIZE, 100))\n",
    "\n",
    "Z = torch.from_numpy(Z)\n",
    "Z= Z.float()\n",
    "gen = Generator(0)\n",
    "criterion = torch.nn.BCELoss() #binary cross entrpy\n",
    "optimizer = optim.SGD(net.parameters(), lr=0.001, momentum=0.9)\n",
    "\n",
    "\n",
    "generated_images = gen(Z)\n",
    "\n",
    "generated_images = generated_images.detach().numpy()\n",
    "\n",
    "print(generated_images.shape)\n",
    "plt.subplot(1, 3, 1)\n",
    "plt.imshow(generated_images[0].reshape(32, 32), cmap=plt.cm.Greys)\n",
    "plt.title('Random picture 1')\n",
    "\n",
    "plt.subplot(1, 3, 2)\n",
    "plt.imshow(generated_images[1].reshape(32, 32), cmap=plt.cm.Greys)\n",
    "plt.title('Random picture 2')\n",
    "    \n",
    "plt.subplot(1, 3, 3)\n",
    "plt.imshow(generated_images[2].reshape(32, 32), cmap=plt.cm.Greys)\n",
    "plt.title('Random picture 3')\n",
    "\n",
    "plt.show()"
   ]
  },
  {
   "cell_type": "markdown",
   "metadata": {},
   "source": [
    "Cool, now we have a random picture generator, taking a [batch_size,100] array as input. There is a nice article about upsampling a picture, nice to read: https://towardsdatascience.com/up-sampling-with-transposed-convolution-9ae4f2df52d0"
   ]
  },
  {
   "cell_type": "markdown",
   "metadata": {},
   "source": [
    "### 2.2 Discriminator ###"
   ]
  },
  {
   "cell_type": "markdown",
   "metadata": {},
   "source": [
    "Basically, this is the opposite of our generator. From a 32x32 picture, we will use the convnet to output a number between 0 and 1. "
   ]
  },
  {
   "cell_type": "code",
   "execution_count": 8,
   "metadata": {},
   "outputs": [
    {
     "data": {
      "text/html": [
       "<img src=\"./discriminator.png\" width=\"700\" height=\"450\"/>"
      ],
      "text/plain": [
       "<IPython.core.display.Image object>"
      ]
     },
     "execution_count": 8,
     "metadata": {},
     "output_type": "execute_result"
    }
   ],
   "source": [
    "Image(url= \"./discriminator.png\",width=700, height=450)"
   ]
  },
  {
   "cell_type": "markdown",
   "metadata": {},
   "source": [
    "As a reminder, the ouput size of a convolutional layer is $\\frac{n+2p-f}{s}+1 $ (n= input shape, p = padding, s = stride, f= filter size). \n",
    "Padding shape is:\n",
    "* \"Valid\" : n-f+1\n",
    "* \"Same\" : $p=\\frac{f-1}{2}$ ; $\\frac{n + 2p -f}{2} +1$\n",
    "\n",
    "There is no common rules regarding, the filter size, just a 2^n size. If I keep same kernel size as the generator, I will end up with 2x2x1024 as output of the last conv layer. This is maybe not good, but let's try."
   ]
  },
  {
   "cell_type": "code",
   "execution_count": 9,
   "metadata": {},
   "outputs": [
    {
     "name": "stdout",
     "output_type": "stream",
     "text": [
      "----------------------------------------------------------------\n",
      "        Layer (type)               Output Shape         Param #\n",
      "================================================================\n",
      "            Conv2d-1          [-1, 128, 16, 16]           3,328\n",
      "         LeakyReLU-2          [-1, 128, 16, 16]               0\n",
      "            Conv2d-3            [-1, 256, 8, 8]         819,456\n",
      "       BatchNorm2d-4            [-1, 256, 8, 8]             512\n",
      "         LeakyReLU-5            [-1, 256, 8, 8]               0\n",
      "            Conv2d-6            [-1, 512, 4, 4]       3,277,312\n",
      "       BatchNorm2d-7            [-1, 512, 4, 4]           1,024\n",
      "         LeakyReLU-8            [-1, 512, 4, 4]               0\n",
      "            Conv2d-9           [-1, 1024, 2, 2]      13,108,224\n",
      "      BatchNorm2d-10           [-1, 1024, 2, 2]           2,048\n",
      "        LeakyReLU-11           [-1, 1024, 2, 2]               0\n",
      "           Conv2d-12              [-1, 1, 1, 1]          25,601\n",
      "          Sigmoid-13              [-1, 1, 1, 1]               0\n",
      "================================================================\n",
      "Total params: 17,237,505\n",
      "Trainable params: 17,237,505\n",
      "Non-trainable params: 0\n",
      "----------------------------------------------------------------\n",
      "Input size (MB): 0.00\n",
      "Forward/backward pass size (MB): 1.16\n",
      "Params size (MB): 65.76\n",
      "Estimated Total Size (MB): 66.92\n",
      "----------------------------------------------------------------\n"
     ]
    }
   ],
   "source": [
    "filter_size_discri=[128,256,512,1024]\n",
    "picture_nb_chanels = 1\n",
    "class Discriminator(nn.Module):\n",
    "    def __init__(self, ngpu):\n",
    "        super(Discriminator, self).__init__()\n",
    "        self.ngpu = ngpu # number of GPUs available. If this is 0, code will run in CPU mode. If this number is greater than 0 it will run on that number of GPUs\n",
    "        self.main = nn.Sequential(\n",
    "        \n",
    "        # 1st convolution layer\n",
    "        nn.Conv2d(in_channels=picture_nb_chanels, out_channels=filter_size_discri[0],kernel_size=5,stride =2,padding = 2),  \n",
    "        #out: (n+2p-f)/2 +1 => (32 +2*2 -5) /2 +1 = 31/2 +1 = 16.5  =16 (take the round)\n",
    "        #nn.BatchNorm2d(filter_size_discri[0]),\n",
    "        nn.LeakyReLU(), #out is -1,128,16,16    \n",
    "    \n",
    "        # 2nd convolution layer\n",
    "        nn.Conv2d(in_channels=filter_size_discri[0], out_channels=filter_size_discri[1],kernel_size=5,stride =2,padding = 2),  \n",
    "        nn.BatchNorm2d(filter_size_discri[1]),\n",
    "        nn.LeakyReLU(), #out is -1,256,8,8\n",
    "            \n",
    "            \n",
    "        # 3rd convolution layer\n",
    "        nn.Conv2d(in_channels=filter_size_discri[1], out_channels=filter_size_discri[2],kernel_size=5,stride =2,padding = 2),  \n",
    "        nn.BatchNorm2d(filter_size_discri[2]),\n",
    "        nn.LeakyReLU(), #out is -1,512,4,4\n",
    "            \n",
    "            \n",
    "        # 4th convolution layer\n",
    "        nn.Conv2d(in_channels=filter_size_discri[2], out_channels=filter_size_discri[3],kernel_size=5,stride =2,padding = 2),  \n",
    "        nn.BatchNorm2d(filter_size_discri[3]),\n",
    "        nn.LeakyReLU(), #out is -1,1024,2,2\n",
    "            \n",
    "            \n",
    "        # 5th convolution layer\n",
    "        nn.Conv2d(in_channels=filter_size_discri[3], out_channels=1,kernel_size=5,stride =2,padding = 2), \n",
    "        nn.Sigmoid()\n",
    "        )\n",
    "        \n",
    "    def forward(self, input):\n",
    "        return self.main(input)\n",
    "        \n",
    "        \n",
    "dis = Discriminator(ngpu=0)\n",
    "\n",
    "summary(dis, (1,32,32),device=\"cpu\")"
   ]
  },
  {
   "cell_type": "markdown",
   "metadata": {},
   "source": [
    "Let's try with a random 32x32 picture:"
   ]
  },
  {
   "cell_type": "code",
   "execution_count": 10,
   "metadata": {},
   "outputs": [
    {
     "name": "stdout",
     "output_type": "stream",
     "text": [
      "0.4863418936729431\n"
     ]
    }
   ],
   "source": [
    "in1 = torch.randn(1,1,32,32, dtype=torch.float)\n",
    "\n",
    "dis = Discriminator(0)\n",
    "\n",
    "criterion = torch.nn.BCELoss() #binary cross entrpy\n",
    "optimizer = optim.Adam(dis.parameters(), lr=0.0002, betas=(0.5, 0.999))\n",
    "\n",
    "\n",
    "return_label = dis(in1)\n",
    "print(return_label.item())"
   ]
  },
  {
   "cell_type": "markdown",
   "metadata": {},
   "source": [
    "Okay seems, we correctly generate a binary prediction based on a 32x32 input."
   ]
  },
  {
   "cell_type": "markdown",
   "metadata": {},
   "source": [
    "### 2.3 Train the model ###"
   ]
  },
  {
   "cell_type": "markdown",
   "metadata": {},
   "source": [
    "Now, we enter the real GAN mechanism. As a reminder we currently have a generator and a disriminator. How to handle the complete GAN process? Here are the main steps:\n",
    "1. Generate a batch of fake images thanks to our Generator\n",
    "2. Train the discriminator mixing the batch of fake image + a same number of real image. We also add the label 0=fake, 1=real. Optimize the weight of Discriminator network.\n",
    "3. Generate picture with the generator, infere them in the discriminator network and improve the genrator network.\n",
    "\n"
   ]
  },
  {
   "cell_type": "code",
   "execution_count": 11,
   "metadata": {},
   "outputs": [],
   "source": [
    "# Number of training epochs\n",
    "num_epochs = 50\n",
    "# Learning rate for optimizers\n",
    "lr = 0.0002\n",
    "# Beta1 hyperparam for Adam optimizers\n",
    "beta1 = 0.5\n",
    "\n",
    "num_batches = int(len(trainloader) / float(batch_size)) # around 1093 batches\n",
    "\n",
    "gen.apply(weights_init)\n",
    "dis.apply(weights_init)\n",
    "\n",
    "# Initialize BCELoss function\n",
    "criterion = nn.BCELoss()\n",
    "\n",
    "# Create batch of latent vectors that we will use to visualize\n",
    "#  the progression of the generator\n",
    "fixed_noise = torch.randn(64, nz, 1, 1, device=\"cpu\")\n",
    "\n",
    "# Establish convention for real and fake labels during training\n",
    "real_label = 1\n",
    "fake_label = 0\n",
    "\n",
    "# Setup Adam optimizers for both G and D\n",
    "optimizerD = optim.Adam(dis.parameters(), lr=lr, betas=(beta1, 0.999))\n",
    "optimizerG = optim.Adam(gen.parameters(), lr=lr, betas=(beta1, 0.999))\n",
    "\n"
   ]
  },
  {
   "cell_type": "code",
   "execution_count": 12,
   "metadata": {},
   "outputs": [],
   "source": [
    "def save_imgs(generator, epoch, batch):\n",
    "    r, c = 2, 2\n",
    "    gen_imgs = gen(Variable(torch.randn(batch_size, 100)))\n",
    "    gen_imgs = 0.5 * gen_imgs + 0.5\n",
    "\n",
    "    fig, axs = plt.subplots(r, c)\n",
    "    cnt = 0\n",
    "    for i in range(r):\n",
    "        for j in range(c):\n",
    "            #print(cnt)\n",
    "            #print(gen_imgs.detach().numpy().shape)\n",
    "            #axs[i, j].imshow(gen_imgs[cnt, :, :, 0].detach().numpy(), cmap='gray')\n",
    "            axs[i, j].imshow(gen_imgs[cnt,0, :, :].detach().numpy(), cmap='gray')\n",
    "            axs[i, j].axis('off')\n",
    "            cnt += 1\n",
    "    fig.savefig(\"images/mnist_%d_%d.png\" % (epoch, batch))\n",
    "    plt.close()"
   ]
  },
  {
   "cell_type": "code",
   "execution_count": 13,
   "metadata": {},
   "outputs": [
    {
     "name": "stderr",
     "output_type": "stream",
     "text": [
      "/usr/local/lib/python3.6/site-packages/torch/nn/functional.py:1594: UserWarning: Using a target size (torch.Size([32, 1])) that is different to the input size (torch.Size([32, 1, 1, 1])) is deprecated. Please ensure they have the same size.\n",
      "  \"Please ensure they have the same size.\".format(target.size(), input.size()))\n"
     ]
    },
    {
     "name": "stdout",
     "output_type": "stream",
     "text": [
      "Epoch 0 Batch 0/1875 [D loss: 1.508353] [G loss: 8.994370]\n",
      "Epoch 0 Batch 1/1875 [D loss: 0.087169] [G loss: 8.075891]\n",
      "Epoch 0 Batch 2/1875 [D loss: 0.266323] [G loss: 14.561055]\n",
      "Epoch 0 Batch 3/1875 [D loss: 3.198386] [G loss: 0.844514]\n",
      "Epoch 0 Batch 4/1875 [D loss: 6.916126] [G loss: 8.536271]\n",
      "Epoch 0 Batch 5/1875 [D loss: 0.026196] [G loss: 9.340776]\n"
     ]
    },
    {
     "name": "stderr",
     "output_type": "stream",
     "text": [
      "Process Process-2:\n",
      "Process Process-1:\n",
      "Traceback (most recent call last):\n",
      "Traceback (most recent call last):\n",
      "  File \"/usr/local/Cellar/python/3.6.5/Frameworks/Python.framework/Versions/3.6/lib/python3.6/multiprocessing/process.py\", line 258, in _bootstrap\n",
      "    self.run()\n",
      "  File \"/usr/local/Cellar/python/3.6.5/Frameworks/Python.framework/Versions/3.6/lib/python3.6/multiprocessing/process.py\", line 258, in _bootstrap\n",
      "    self.run()\n",
      "  File \"/usr/local/Cellar/python/3.6.5/Frameworks/Python.framework/Versions/3.6/lib/python3.6/multiprocessing/process.py\", line 93, in run\n",
      "    self._target(*self._args, **self._kwargs)\n",
      "  File \"/usr/local/Cellar/python/3.6.5/Frameworks/Python.framework/Versions/3.6/lib/python3.6/multiprocessing/process.py\", line 93, in run\n",
      "    self._target(*self._args, **self._kwargs)\n",
      "  File \"/usr/local/lib/python3.6/site-packages/torch/utils/data/dataloader.py\", line 96, in _worker_loop\n",
      "    r = index_queue.get(timeout=MANAGER_STATUS_CHECK_INTERVAL)\n",
      "  File \"/usr/local/lib/python3.6/site-packages/torch/utils/data/dataloader.py\", line 96, in _worker_loop\n",
      "    r = index_queue.get(timeout=MANAGER_STATUS_CHECK_INTERVAL)\n",
      "  File \"/usr/local/Cellar/python/3.6.5/Frameworks/Python.framework/Versions/3.6/lib/python3.6/multiprocessing/queues.py\", line 104, in get\n",
      "    if not self._poll(timeout):\n",
      "  File \"/usr/local/Cellar/python/3.6.5/Frameworks/Python.framework/Versions/3.6/lib/python3.6/multiprocessing/queues.py\", line 104, in get\n",
      "    if not self._poll(timeout):\n",
      "  File \"/usr/local/Cellar/python/3.6.5/Frameworks/Python.framework/Versions/3.6/lib/python3.6/multiprocessing/connection.py\", line 257, in poll\n",
      "    return self._poll(timeout)\n",
      "  File \"/usr/local/Cellar/python/3.6.5/Frameworks/Python.framework/Versions/3.6/lib/python3.6/multiprocessing/connection.py\", line 257, in poll\n",
      "    return self._poll(timeout)\n",
      "  File \"/usr/local/Cellar/python/3.6.5/Frameworks/Python.framework/Versions/3.6/lib/python3.6/multiprocessing/connection.py\", line 414, in _poll\n",
      "    r = wait([self], timeout)\n",
      "  File \"/usr/local/Cellar/python/3.6.5/Frameworks/Python.framework/Versions/3.6/lib/python3.6/multiprocessing/connection.py\", line 414, in _poll\n",
      "    r = wait([self], timeout)\n",
      "  File \"/usr/local/Cellar/python/3.6.5/Frameworks/Python.framework/Versions/3.6/lib/python3.6/multiprocessing/connection.py\", line 911, in wait\n",
      "    ready = selector.select(timeout)\n",
      "  File \"/usr/local/Cellar/python/3.6.5/Frameworks/Python.framework/Versions/3.6/lib/python3.6/multiprocessing/connection.py\", line 911, in wait\n",
      "    ready = selector.select(timeout)\n",
      "  File \"/usr/local/Cellar/python/3.6.5/Frameworks/Python.framework/Versions/3.6/lib/python3.6/selectors.py\", line 376, in select\n",
      "    fd_event_list = self._poll.poll(timeout)\n",
      "  File \"/usr/local/Cellar/python/3.6.5/Frameworks/Python.framework/Versions/3.6/lib/python3.6/selectors.py\", line 376, in select\n",
      "    fd_event_list = self._poll.poll(timeout)\n",
      "KeyboardInterrupt\n",
      "KeyboardInterrupt\n",
      "Exception ignored in: <bound method _DataLoaderIter.__del__ of <torch.utils.data.dataloader._DataLoaderIter object at 0x11b3583c8>>\n",
      "Traceback (most recent call last):\n",
      "  File \"/usr/local/lib/python3.6/site-packages/torch/utils/data/dataloader.py\", line 397, in __del__\n",
      "    def __del__(self):\n",
      "  File \"/usr/local/lib/python3.6/site-packages/torch/utils/data/dataloader.py\", line 227, in handler\n",
      "    _error_if_any_worker_fails()\n",
      "RuntimeError: DataLoader worker (pid 12307) exited unexpectedly with exit code 1. Details are lost due to multiprocessing. Rerunning with num_workers=0 may give better error trace.\n"
     ]
    },
    {
     "ename": "KeyboardInterrupt",
     "evalue": "",
     "output_type": "error",
     "traceback": [
      "\u001b[0;31m---------------------------------------------------------------------------\u001b[0m",
      "\u001b[0;31mKeyboardInterrupt\u001b[0m                         Traceback (most recent call last)",
      "\u001b[0;32m<ipython-input-13-f53a99065dab>\u001b[0m in \u001b[0;36m<module>\u001b[0;34m()\u001b[0m\n\u001b[1;32m     21\u001b[0m         \u001b[0;31m# Calculate error and backpropagate\u001b[0m\u001b[0;34m\u001b[0m\u001b[0;34m\u001b[0m\u001b[0m\n\u001b[1;32m     22\u001b[0m         \u001b[0merror_fake\u001b[0m \u001b[0;34m=\u001b[0m \u001b[0mcriterion\u001b[0m\u001b[0;34m(\u001b[0m\u001b[0mprediction_fake\u001b[0m\u001b[0;34m,\u001b[0m \u001b[0mVariable\u001b[0m\u001b[0;34m(\u001b[0m\u001b[0mtorch\u001b[0m\u001b[0;34m.\u001b[0m\u001b[0mzeros\u001b[0m\u001b[0;34m(\u001b[0m\u001b[0mlen\u001b[0m\u001b[0;34m(\u001b[0m\u001b[0mprediction_fake\u001b[0m\u001b[0;34m)\u001b[0m\u001b[0;34m,\u001b[0m \u001b[0;36m1\u001b[0m\u001b[0;34m)\u001b[0m\u001b[0;34m)\u001b[0m \u001b[0;34m)\u001b[0m\u001b[0;34m\u001b[0m\u001b[0m\n\u001b[0;32m---> 23\u001b[0;31m         \u001b[0merror_fake\u001b[0m\u001b[0;34m.\u001b[0m\u001b[0mbackward\u001b[0m\u001b[0;34m(\u001b[0m\u001b[0;34m)\u001b[0m\u001b[0;34m\u001b[0m\u001b[0m\n\u001b[0m\u001b[1;32m     24\u001b[0m \u001b[0;34m\u001b[0m\u001b[0m\n\u001b[1;32m     25\u001b[0m         \u001b[0moptimizerD\u001b[0m\u001b[0;34m.\u001b[0m\u001b[0mstep\u001b[0m\u001b[0;34m(\u001b[0m\u001b[0;34m)\u001b[0m\u001b[0;34m\u001b[0m\u001b[0m\n",
      "\u001b[0;32m/usr/local/lib/python3.6/site-packages/torch/tensor.py\u001b[0m in \u001b[0;36mbackward\u001b[0;34m(self, gradient, retain_graph, create_graph)\u001b[0m\n\u001b[1;32m     91\u001b[0m                 \u001b[0mproducts\u001b[0m\u001b[0;34m.\u001b[0m \u001b[0mDefaults\u001b[0m \u001b[0mto\u001b[0m\u001b[0;31m \u001b[0m\u001b[0;31m`\u001b[0m\u001b[0;31m`\u001b[0m\u001b[0;32mFalse\u001b[0m\u001b[0;31m`\u001b[0m\u001b[0;31m`\u001b[0m\u001b[0;34m.\u001b[0m\u001b[0;34m\u001b[0m\u001b[0m\n\u001b[1;32m     92\u001b[0m         \"\"\"\n\u001b[0;32m---> 93\u001b[0;31m         \u001b[0mtorch\u001b[0m\u001b[0;34m.\u001b[0m\u001b[0mautograd\u001b[0m\u001b[0;34m.\u001b[0m\u001b[0mbackward\u001b[0m\u001b[0;34m(\u001b[0m\u001b[0mself\u001b[0m\u001b[0;34m,\u001b[0m \u001b[0mgradient\u001b[0m\u001b[0;34m,\u001b[0m \u001b[0mretain_graph\u001b[0m\u001b[0;34m,\u001b[0m \u001b[0mcreate_graph\u001b[0m\u001b[0;34m)\u001b[0m\u001b[0;34m\u001b[0m\u001b[0m\n\u001b[0m\u001b[1;32m     94\u001b[0m \u001b[0;34m\u001b[0m\u001b[0m\n\u001b[1;32m     95\u001b[0m     \u001b[0;32mdef\u001b[0m \u001b[0mregister_hook\u001b[0m\u001b[0;34m(\u001b[0m\u001b[0mself\u001b[0m\u001b[0;34m,\u001b[0m \u001b[0mhook\u001b[0m\u001b[0;34m)\u001b[0m\u001b[0;34m:\u001b[0m\u001b[0;34m\u001b[0m\u001b[0m\n",
      "\u001b[0;32m/usr/local/lib/python3.6/site-packages/torch/autograd/__init__.py\u001b[0m in \u001b[0;36mbackward\u001b[0;34m(tensors, grad_tensors, retain_graph, create_graph, grad_variables)\u001b[0m\n\u001b[1;32m     88\u001b[0m     Variable._execution_engine.run_backward(\n\u001b[1;32m     89\u001b[0m         \u001b[0mtensors\u001b[0m\u001b[0;34m,\u001b[0m \u001b[0mgrad_tensors\u001b[0m\u001b[0;34m,\u001b[0m \u001b[0mretain_graph\u001b[0m\u001b[0;34m,\u001b[0m \u001b[0mcreate_graph\u001b[0m\u001b[0;34m,\u001b[0m\u001b[0;34m\u001b[0m\u001b[0m\n\u001b[0;32m---> 90\u001b[0;31m         allow_unreachable=True)  # allow_unreachable flag\n\u001b[0m\u001b[1;32m     91\u001b[0m \u001b[0;34m\u001b[0m\u001b[0m\n\u001b[1;32m     92\u001b[0m \u001b[0;34m\u001b[0m\u001b[0m\n",
      "\u001b[0;31mKeyboardInterrupt\u001b[0m: "
     ]
    }
   ],
   "source": [
    "for epoch in range(num_epochs):\n",
    "    # For each batch in the dataloader\n",
    "    for batch_number, data in enumerate(trainloader, 0):\n",
    "        #data = list of 2 elements : 1st element = batch_size x pictures(tensor) ,label : tensor([4, 5, 2, 8])\n",
    "        \n",
    "        #1 Train discriminator\n",
    "        #1.1 on real labels:\n",
    "        real_data = Variable(data[0])\n",
    "        if torch.cuda.is_available(): real_data = real_data.cuda()\n",
    "        optimizerD.zero_grad() #Clears the gradients of all optimized tensor\n",
    "        \n",
    "        prediction_real = dis(real_data) #train\n",
    "\n",
    "        # Calculate error and backpropagate\n",
    "        error_real = criterion(prediction_real, Variable(torch.ones(len(prediction_real), 1)) )\n",
    "        error_real.backward()\n",
    "        \n",
    "        #1.2 on fake data:\n",
    "        fake_data = gen(Variable(torch.randn(batch_size, 100))) #generate innput vector\n",
    "        prediction_fake = dis(fake_data)\n",
    "        # Calculate error and backpropagate\n",
    "        error_fake = criterion(prediction_fake, Variable(torch.zeros(len(prediction_fake), 1)) )\n",
    "        error_fake.backward()\n",
    "        \n",
    "        optimizerD.step()\n",
    "        \n",
    "        \n",
    "        #2 Train generator\n",
    "        fake_data = gen(Variable(torch.randn(batch_size, 100))) #generate innput vector\n",
    "        optimizerG.zero_grad()\n",
    "        # Sample noise and generate fake data\n",
    "        prediction = dis(fake_data)\n",
    "        # Calculate error compare to supposed real labels\n",
    "        error = criterion(prediction, Variable(torch.ones(len(prediction_real), 1)))\n",
    "        error.backward()\n",
    "        # Update weights with gradients\n",
    "        optimizerG.step()\n",
    "        print(\"Epoch %d Batch %d/%d [D loss: %f] [G loss: %f]\" % (epoch,batch_number, len(trainloader), error_real+error_fake, error))\n",
    "        if batch_number % 50 == 0:\n",
    "            save_imgs(gen, epoch, batch_number)\n",
    "        \n",
    "        \n",
    "        \n",
    "        \n",
    "        \n",
    "        \n",
    "       "
   ]
  },
  {
   "cell_type": "markdown",
   "metadata": {},
   "source": [
    "If GPU is available, insert .cuda() when creating generator and discriminator objects, also when creating tensors."
   ]
  }
 ],
 "metadata": {
  "kernelspec": {
   "display_name": "Python 3",
   "language": "python",
   "name": "python3"
  },
  "language_info": {
   "codemirror_mode": {
    "name": "ipython",
    "version": 3
   },
   "file_extension": ".py",
   "mimetype": "text/x-python",
   "name": "python",
   "nbconvert_exporter": "python",
   "pygments_lexer": "ipython3",
   "version": "3.6.5"
  }
 },
 "nbformat": 4,
 "nbformat_minor": 2
}
